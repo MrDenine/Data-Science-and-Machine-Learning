{
  "nbformat": 4,
  "nbformat_minor": 0,
  "metadata": {
    "colab": {
      "name": "Ensemble Method.ipynb",
      "provenance": []
    },
    "kernelspec": {
      "name": "python3",
      "display_name": "Python 3"
    },
    "language_info": {
      "name": "python"
    },
    "accelerator": "GPU"
  },
  "cells": [
    {
      "cell_type": "markdown",
      "source": [
        "##Preparing Dataset"
      ],
      "metadata": {
        "id": "z7OtEyElR0wH"
      }
    },
    {
      "cell_type": "code",
      "execution_count": null,
      "metadata": {
        "id": "7St3ykYcRpNl"
      },
      "outputs": [],
      "source": [
        "import pandas as pd"
      ]
    },
    {
      "cell_type": "code",
      "source": [
        "df1 = pd.read_csv('/content/drive/MyDrive/KUxDEPA-Data-Science-and-Machine-Learning-Training-Course/dataset/01-census-income.csv')"
      ],
      "metadata": {
        "id": "K7a1gVq8RykT"
      },
      "execution_count": null,
      "outputs": []
    },
    {
      "cell_type": "code",
      "source": [
        "df2 = pd.read_csv('/content/drive/MyDrive/KUxDEPA-Data-Science-and-Machine-Learning-Training-Course/dataset/02-future-census.csv')"
      ],
      "metadata": {
        "id": "9D3-WkBWSDdc"
      },
      "execution_count": null,
      "outputs": []
    },
    {
      "cell_type": "code",
      "source": [
        "df1.columns"
      ],
      "metadata": {
        "colab": {
          "base_uri": "https://localhost:8080/"
        },
        "id": "3RLK6KS8SIsf",
        "outputId": "4ac80025-74eb-419f-eec0-bb367799caf4"
      },
      "execution_count": null,
      "outputs": [
        {
          "output_type": "execute_result",
          "data": {
            "text/plain": [
              "Index(['age', 'workclass', 'weight', 'education', 'edu num', 'marital status',\n",
              "       'occupation', 'relationship', 'race', 'sex', 'capital-gain',\n",
              "       'capital-loss', 'hours-per-week', 'native country', 'label'],\n",
              "      dtype='object')"
            ]
          },
          "metadata": {},
          "execution_count": 63
        }
      ]
    },
    {
      "cell_type": "code",
      "source": [
        "cols=['age', 'edu num', 'marital status','occupation', 'sex', 'capital-gain',\n",
        "       'capital-loss','hours-per-week']"
      ],
      "metadata": {
        "id": "KzXL5FGFSKfy"
      },
      "execution_count": null,
      "outputs": []
    },
    {
      "cell_type": "code",
      "source": [
        "X_train = df1[cols]\n",
        "X_test = df2[cols]"
      ],
      "metadata": {
        "id": "_IZfu7FvSZ72"
      },
      "execution_count": null,
      "outputs": []
    },
    {
      "cell_type": "code",
      "source": [
        "y_train = df1['label']\n",
        "y_test = df2['label']"
      ],
      "metadata": {
        "id": "jM6du3KOSe3e"
      },
      "execution_count": null,
      "outputs": []
    },
    {
      "cell_type": "markdown",
      "source": [
        "##Transform Data"
      ],
      "metadata": {
        "id": "E4s_p5KHSrDA"
      }
    },
    {
      "cell_type": "code",
      "source": [
        "from sklearn.preprocessing import OneHotEncoder ,StandardScaler\n",
        "from sklearn.compose import make_column_transformer"
      ],
      "metadata": {
        "id": "vdy6dBsYSoNX"
      },
      "execution_count": null,
      "outputs": []
    },
    {
      "cell_type": "code",
      "source": [
        "transformer = make_column_transformer(\n",
        "    (OneHotEncoder(),['marital status','occupation', 'sex']),\n",
        "    (StandardScaler(),['age', 'edu num', 'capital-gain',\n",
        "       'capital-loss','hours-per-week'])\n",
        ")"
      ],
      "metadata": {
        "id": "pDoK72AIS6nn"
      },
      "execution_count": null,
      "outputs": []
    },
    {
      "cell_type": "code",
      "source": [
        "transformer.fit(X_train)"
      ],
      "metadata": {
        "colab": {
          "base_uri": "https://localhost:8080/"
        },
        "id": "9hFv_t2RTTBs",
        "outputId": "71db6ae7-e466-4384-8bcf-1a51eb0bf779"
      },
      "execution_count": null,
      "outputs": [
        {
          "output_type": "execute_result",
          "data": {
            "text/plain": [
              "ColumnTransformer(transformers=[('onehotencoder', OneHotEncoder(),\n",
              "                                 ['marital status', 'occupation', 'sex']),\n",
              "                                ('standardscaler', StandardScaler(),\n",
              "                                 ['age', 'edu num', 'capital-gain',\n",
              "                                  'capital-loss', 'hours-per-week'])])"
            ]
          },
          "metadata": {},
          "execution_count": 69
        }
      ]
    },
    {
      "cell_type": "code",
      "source": [
        "X_train_transformed = transformer.transform(X_train)\n",
        "X_test_transformed = transformer.transform(X_test)"
      ],
      "metadata": {
        "id": "400ZmfWPTd06"
      },
      "execution_count": null,
      "outputs": []
    },
    {
      "cell_type": "code",
      "source": [
        "transformer.get_feature_names_out()"
      ],
      "metadata": {
        "colab": {
          "base_uri": "https://localhost:8080/"
        },
        "id": "R78jbL6UUIUt",
        "outputId": "dbd933d0-8117-4cf9-a725-7abea68a4ec1"
      },
      "execution_count": null,
      "outputs": [
        {
          "output_type": "execute_result",
          "data": {
            "text/plain": [
              "array(['onehotencoder__marital status_ Divorced',\n",
              "       'onehotencoder__marital status_ Married-AF-spouse',\n",
              "       'onehotencoder__marital status_ Married-civ-spouse',\n",
              "       'onehotencoder__marital status_ Married-spouse-absent',\n",
              "       'onehotencoder__marital status_ Never-married',\n",
              "       'onehotencoder__marital status_ Separated',\n",
              "       'onehotencoder__marital status_ Widowed',\n",
              "       'onehotencoder__occupation_ ?',\n",
              "       'onehotencoder__occupation_ Adm-clerical',\n",
              "       'onehotencoder__occupation_ Armed-Forces',\n",
              "       'onehotencoder__occupation_ Craft-repair',\n",
              "       'onehotencoder__occupation_ Exec-managerial',\n",
              "       'onehotencoder__occupation_ Farming-fishing',\n",
              "       'onehotencoder__occupation_ Handlers-cleaners',\n",
              "       'onehotencoder__occupation_ Machine-op-inspct',\n",
              "       'onehotencoder__occupation_ Other-service',\n",
              "       'onehotencoder__occupation_ Priv-house-serv',\n",
              "       'onehotencoder__occupation_ Prof-specialty',\n",
              "       'onehotencoder__occupation_ Protective-serv',\n",
              "       'onehotencoder__occupation_ Sales',\n",
              "       'onehotencoder__occupation_ Tech-support',\n",
              "       'onehotencoder__occupation_ Transport-moving',\n",
              "       'onehotencoder__sex_ Female', 'onehotencoder__sex_ Male',\n",
              "       'standardscaler__age', 'standardscaler__edu num',\n",
              "       'standardscaler__capital-gain', 'standardscaler__capital-loss',\n",
              "       'standardscaler__hours-per-week'], dtype=object)"
            ]
          },
          "metadata": {},
          "execution_count": 71
        }
      ]
    },
    {
      "cell_type": "markdown",
      "source": [
        "##Import Model Algorithm"
      ],
      "metadata": {
        "id": "E2N1YVVtE6ve"
      }
    },
    {
      "cell_type": "code",
      "source": [
        "from sklearn.neighbors import KNeighborsClassifier\n",
        "from sklearn.tree import DecisionTreeClassifier\n",
        "from sklearn.linear_model import LogisticRegression\n",
        "from sklearn.svm import SVC\n",
        "from sklearn.naive_bayes import GaussianNB"
      ],
      "metadata": {
        "id": "YQH8X40YFCbx"
      },
      "execution_count": null,
      "outputs": []
    },
    {
      "cell_type": "markdown",
      "source": [
        "#Ensemble Method"
      ],
      "metadata": {
        "id": "nBs23kSpexYU"
      }
    },
    {
      "cell_type": "markdown",
      "source": [
        "##Voting Classifier"
      ],
      "metadata": {
        "id": "whVgwZomEp77"
      }
    },
    {
      "cell_type": "code",
      "execution_count": null,
      "metadata": {
        "id": "0Axc7wVnBjXM"
      },
      "outputs": [],
      "source": [
        "from sklearn.ensemble import VotingClassifier"
      ]
    },
    {
      "cell_type": "code",
      "source": [
        "voting = VotingClassifier(estimators =[\n",
        "              ('knn',KNeighborsClassifier(35)),\n",
        "              ('dtree',DecisionTreeClassifier(max_depth=10)),\n",
        "              ('logit',LogisticRegression(max_iter=1000)),\n",
        "              ('svm',SVC(kernel='poly')),\n",
        "              ('gnb',GaussianNB())\n",
        "])"
      ],
      "metadata": {
        "id": "iV1Dt603FY-l"
      },
      "execution_count": null,
      "outputs": []
    },
    {
      "cell_type": "code",
      "source": [
        "voting.fit(X_train_transformed.toarray(),y_train)"
      ],
      "metadata": {
        "colab": {
          "base_uri": "https://localhost:8080/"
        },
        "id": "gPNhNOV7GLGU",
        "outputId": "e2e79434-5179-491d-ba9a-fe6a63392199"
      },
      "execution_count": null,
      "outputs": [
        {
          "output_type": "execute_result",
          "data": {
            "text/plain": [
              "VotingClassifier(estimators=[('knn', KNeighborsClassifier(n_neighbors=35)),\n",
              "                             ('dtree', DecisionTreeClassifier(max_depth=10)),\n",
              "                             ('logit', LogisticRegression(max_iter=1000)),\n",
              "                             ('svm', SVC(kernel='poly')),\n",
              "                             ('gnb', GaussianNB())])"
            ]
          },
          "metadata": {},
          "execution_count": 25
        }
      ]
    },
    {
      "cell_type": "code",
      "source": [
        "voting.score(X_train_transformed.toarray(),y_train)"
      ],
      "metadata": {
        "colab": {
          "base_uri": "https://localhost:8080/"
        },
        "id": "mkU-ZZVkGaFw",
        "outputId": "3dbafe36-93bf-41a3-8982-343d4a3ff341"
      },
      "execution_count": null,
      "outputs": [
        {
          "output_type": "execute_result",
          "data": {
            "text/plain": [
              "0.8595973312865325"
            ]
          },
          "metadata": {},
          "execution_count": 27
        }
      ]
    },
    {
      "cell_type": "code",
      "source": [
        "voting.score(X_test_transformed.toarray(),y_test)"
      ],
      "metadata": {
        "colab": {
          "base_uri": "https://localhost:8080/"
        },
        "id": "chyx6MQRHiKq",
        "outputId": "b4039cd4-e065-4333-c3ef-105d8601ad6c"
      },
      "execution_count": null,
      "outputs": [
        {
          "output_type": "execute_result",
          "data": {
            "text/plain": [
              "0.8533988533988534"
            ]
          },
          "metadata": {},
          "execution_count": 28
        }
      ]
    },
    {
      "cell_type": "markdown",
      "source": [
        "##Bagging and Pasting"
      ],
      "metadata": {
        "id": "nmf5qG9JIMce"
      }
    },
    {
      "cell_type": "code",
      "source": [
        "from sklearn.ensemble import BaggingClassifier"
      ],
      "metadata": {
        "id": "ubDkiOrhHnbA"
      },
      "execution_count": null,
      "outputs": []
    },
    {
      "cell_type": "code",
      "source": [
        "bag = BaggingClassifier(\n",
        "    KNeighborsClassifier(35),\n",
        "    max_samples=1000,\n",
        "    n_estimators=500,\n",
        "    oob_score=True\n",
        ")"
      ],
      "metadata": {
        "id": "pvKiLC5xKtgO"
      },
      "execution_count": null,
      "outputs": []
    },
    {
      "cell_type": "code",
      "source": [
        "bag.fit(X_train_transformed,y_train)"
      ],
      "metadata": {
        "colab": {
          "base_uri": "https://localhost:8080/"
        },
        "id": "S3Eegi4XLDWi",
        "outputId": "d76cf39e-9ca5-4aea-d0c0-5435e11d52fa"
      },
      "execution_count": null,
      "outputs": [
        {
          "output_type": "execute_result",
          "data": {
            "text/plain": [
              "BaggingClassifier(base_estimator=KNeighborsClassifier(n_neighbors=35),\n",
              "                  max_samples=1000, n_estimators=500, oob_score=True)"
            ]
          },
          "metadata": {},
          "execution_count": 35
        }
      ]
    },
    {
      "cell_type": "code",
      "source": [
        "bag.score(X_train_transformed,y_train)"
      ],
      "metadata": {
        "colab": {
          "base_uri": "https://localhost:8080/"
        },
        "id": "SD35BgdrLKRn",
        "outputId": "67d58ac3-b917-4cab-c4e9-4aa1c7e49dcb"
      },
      "execution_count": null,
      "outputs": [
        {
          "output_type": "execute_result",
          "data": {
            "text/plain": [
              "0.8350357206116785"
            ]
          },
          "metadata": {},
          "execution_count": 36
        }
      ]
    },
    {
      "cell_type": "code",
      "source": [
        "bag.score(X_test_transformed,y_test)"
      ],
      "metadata": {
        "colab": {
          "base_uri": "https://localhost:8080/"
        },
        "id": "m6qOPRcTLOUW",
        "outputId": "5f230cb4-2b4b-44ae-d02c-ba179e881d14"
      },
      "execution_count": null,
      "outputs": [
        {
          "output_type": "execute_result",
          "data": {
            "text/plain": [
              "0.8338452088452089"
            ]
          },
          "metadata": {},
          "execution_count": 37
        }
      ]
    },
    {
      "cell_type": "code",
      "source": [
        "bag.oob_score_"
      ],
      "metadata": {
        "colab": {
          "base_uri": "https://localhost:8080/"
        },
        "id": "Cp-ImH3FLmOC",
        "outputId": "e02d5c80-d0d0-4de9-acf5-e6a0312b9951"
      },
      "execution_count": null,
      "outputs": [
        {
          "output_type": "execute_result",
          "data": {
            "text/plain": [
              "0.8347405089449135"
            ]
          },
          "metadata": {},
          "execution_count": 39
        }
      ]
    },
    {
      "cell_type": "markdown",
      "source": [
        "##Random Forest"
      ],
      "metadata": {
        "id": "oBURJgUnMDrv"
      }
    },
    {
      "cell_type": "code",
      "source": [
        "from sklearn.ensemble import RandomForestClassifier"
      ],
      "metadata": {
        "id": "23LAlOQvLRcM"
      },
      "execution_count": null,
      "outputs": []
    },
    {
      "cell_type": "code",
      "source": [
        "forest = RandomForestClassifier(\n",
        "    n_estimators=100,\n",
        "    max_depth=5,\n",
        "    oob_score=True,\n",
        "    # n_jobs=-1\n",
        ")"
      ],
      "metadata": {
        "id": "Xi60n8r5N_vm"
      },
      "execution_count": null,
      "outputs": []
    },
    {
      "cell_type": "code",
      "source": [
        "forest.fit(X_train_transformed,y_train)"
      ],
      "metadata": {
        "colab": {
          "base_uri": "https://localhost:8080/"
        },
        "id": "vGWS6bJAO39k",
        "outputId": "88351646-5cc1-423a-c423-7f1009721265"
      },
      "execution_count": null,
      "outputs": [
        {
          "output_type": "execute_result",
          "data": {
            "text/plain": [
              "RandomForestClassifier(max_depth=5, oob_score=True)"
            ]
          },
          "metadata": {},
          "execution_count": 74
        }
      ]
    },
    {
      "cell_type": "code",
      "source": [
        "forest.oob_score_"
      ],
      "metadata": {
        "colab": {
          "base_uri": "https://localhost:8080/"
        },
        "id": "NgzopOrKO9aB",
        "outputId": "8d4c492c-f034-4897-bf06-7bd58b08fbc7"
      },
      "execution_count": null,
      "outputs": [
        {
          "output_type": "execute_result",
          "data": {
            "text/plain": [
              "0.8482021609494007"
            ]
          },
          "metadata": {},
          "execution_count": 75
        }
      ]
    },
    {
      "cell_type": "code",
      "source": [
        "forest.score(X_train_transformed,y_train)"
      ],
      "metadata": {
        "colab": {
          "base_uri": "https://localhost:8080/"
        },
        "id": "jIbFrL4GPGqo",
        "outputId": "710520d6-676a-4cbe-a7ba-1982f9420507"
      },
      "execution_count": null,
      "outputs": [
        {
          "output_type": "execute_result",
          "data": {
            "text/plain": [
              "0.8497372616165791"
            ]
          },
          "metadata": {},
          "execution_count": 76
        }
      ]
    },
    {
      "cell_type": "code",
      "source": [
        "forest.score(X_test_transformed,y_test)"
      ],
      "metadata": {
        "colab": {
          "base_uri": "https://localhost:8080/"
        },
        "id": "FRRQWh0yPMDQ",
        "outputId": "669c24d1-5b11-43a5-8c35-dff9a472e962"
      },
      "execution_count": null,
      "outputs": [
        {
          "output_type": "execute_result",
          "data": {
            "text/plain": [
              "0.8453112203112203"
            ]
          },
          "metadata": {},
          "execution_count": 77
        }
      ]
    },
    {
      "cell_type": "markdown",
      "source": [
        "##AdaBoosting"
      ],
      "metadata": {
        "id": "oERcHEQ6WpsA"
      }
    },
    {
      "cell_type": "code",
      "source": [
        "from sklearn.ensemble import AdaBoostClassifier"
      ],
      "metadata": {
        "id": "ABOSq4scPQi5"
      },
      "execution_count": null,
      "outputs": []
    },
    {
      "cell_type": "code",
      "source": [
        "ada_clf = AdaBoostClassifier(\n",
        "    DecisionTreeClassifier(max_depth=1),\n",
        "    n_estimators=30,\n",
        "    learning_rate=0.5,\n",
        "    random_state=42\n",
        ")\n",
        "\n",
        "ada_clf.fit(X_train_transformed,y_train)"
      ],
      "metadata": {
        "colab": {
          "base_uri": "https://localhost:8080/"
        },
        "id": "gKTO-kx5YocF",
        "outputId": "388c8583-da10-4f21-d802-b1c66b820ef7"
      },
      "execution_count": null,
      "outputs": [
        {
          "output_type": "execute_result",
          "data": {
            "text/plain": [
              "AdaBoostClassifier(base_estimator=DecisionTreeClassifier(max_depth=1),\n",
              "                   learning_rate=0.5, n_estimators=30, random_state=42)"
            ]
          },
          "metadata": {},
          "execution_count": 79
        }
      ]
    },
    {
      "cell_type": "code",
      "source": [
        "ada_clf.score(X_train_transformed,y_train)"
      ],
      "metadata": {
        "colab": {
          "base_uri": "https://localhost:8080/"
        },
        "id": "xIIgXMiRa7WD",
        "outputId": "e1c30fdf-6841-482e-fe4e-3940001c1b48"
      },
      "execution_count": null,
      "outputs": [
        {
          "output_type": "execute_result",
          "data": {
            "text/plain": [
              "0.8560252701186751"
            ]
          },
          "metadata": {},
          "execution_count": 80
        }
      ]
    },
    {
      "cell_type": "code",
      "source": [
        "ada_clf.score(X_test_transformed,y_test)"
      ],
      "metadata": {
        "colab": {
          "base_uri": "https://localhost:8080/"
        },
        "id": "TjEFeUTtbTdS",
        "outputId": "c8217f63-eca7-4b8d-dac2-0497334523e3"
      },
      "execution_count": null,
      "outputs": [
        {
          "output_type": "execute_result",
          "data": {
            "text/plain": [
              "0.8565724815724816"
            ]
          },
          "metadata": {},
          "execution_count": 81
        }
      ]
    },
    {
      "cell_type": "markdown",
      "source": [
        "##Gradient Boosting"
      ],
      "metadata": {
        "id": "8KTZIcxYdZHr"
      }
    },
    {
      "cell_type": "code",
      "source": [
        "from sklearn.ensemble import GradientBoostingClassifier"
      ],
      "metadata": {
        "id": "nO8pbEfTbYzg"
      },
      "execution_count": null,
      "outputs": []
    },
    {
      "cell_type": "code",
      "source": [
        "gbc = GradientBoostingClassifier()"
      ],
      "metadata": {
        "id": "71xpBvHKdir0"
      },
      "execution_count": null,
      "outputs": []
    },
    {
      "cell_type": "code",
      "source": [
        "gbc.fit(X_train_transformed,y_train)"
      ],
      "metadata": {
        "colab": {
          "base_uri": "https://localhost:8080/"
        },
        "id": "AyVE6ePEdxen",
        "outputId": "453b2429-5d61-41fc-92b0-f5dbec7856df"
      },
      "execution_count": null,
      "outputs": [
        {
          "output_type": "execute_result",
          "data": {
            "text/plain": [
              "GradientBoostingClassifier()"
            ]
          },
          "metadata": {},
          "execution_count": 84
        }
      ]
    },
    {
      "cell_type": "code",
      "source": [
        "gbc.score(X_train_transformed,y_train)"
      ],
      "metadata": {
        "colab": {
          "base_uri": "https://localhost:8080/"
        },
        "id": "AgWI3Vuyd038",
        "outputId": "33a45a47-c307-413f-af4e-8b4fd484fb6f"
      },
      "execution_count": null,
      "outputs": [
        {
          "output_type": "execute_result",
          "data": {
            "text/plain": [
              "0.8679813426226605"
            ]
          },
          "metadata": {},
          "execution_count": 85
        }
      ]
    },
    {
      "cell_type": "code",
      "source": [
        "gbc.score(X_test_transformed,y_test)"
      ],
      "metadata": {
        "colab": {
          "base_uri": "https://localhost:8080/"
        },
        "id": "4q2zYfxcd6F7",
        "outputId": "4a8605c5-3fb1-4bac-bb26-ef3c3531d22a"
      },
      "execution_count": null,
      "outputs": [
        {
          "output_type": "execute_result",
          "data": {
            "text/plain": [
              "0.8648648648648649"
            ]
          },
          "metadata": {},
          "execution_count": 86
        }
      ]
    },
    {
      "cell_type": "markdown",
      "source": [
        "##Stacking (stacked generalization)"
      ],
      "metadata": {
        "id": "3MjSceKRemP0"
      }
    },
    {
      "cell_type": "code",
      "source": [
        "from sklearn.ensemble import StackingClassifier"
      ],
      "metadata": {
        "id": "I0zZhx04eAug"
      },
      "execution_count": null,
      "outputs": []
    },
    {
      "cell_type": "code",
      "source": [
        "stacking_clf = StackingClassifier(\n",
        "    estimators=[\n",
        "              ('knn',KNeighborsClassifier(35)),\n",
        "              ('dtree',DecisionTreeClassifier(max_depth=10)),\n",
        "              ('logit',LogisticRegression(max_iter=1000)),\n",
        "              ('svm',SVC(kernel='poly')),\n",
        "              ('gnb',GaussianNB())\n",
        "    ],\n",
        "    final_estimator=RandomForestClassifier(),\n",
        "    cv=5\n",
        ")\n",
        "stacking_clf.fit(X_train_transformed.toarray(),y_train)"
      ],
      "metadata": {
        "colab": {
          "base_uri": "https://localhost:8080/"
        },
        "id": "bCfey1WFfVMu",
        "outputId": "0876067a-5bf5-4065-ce84-27796187f0e3"
      },
      "execution_count": null,
      "outputs": [
        {
          "output_type": "execute_result",
          "data": {
            "text/plain": [
              "StackingClassifier(cv=5,\n",
              "                   estimators=[('knn', KNeighborsClassifier(n_neighbors=35)),\n",
              "                               ('dtree', DecisionTreeClassifier(max_depth=10)),\n",
              "                               ('logit', LogisticRegression(max_iter=1000)),\n",
              "                               ('svm', SVC(kernel='poly')),\n",
              "                               ('gnb', GaussianNB())],\n",
              "                   final_estimator=RandomForestClassifier())"
            ]
          },
          "metadata": {},
          "execution_count": 91
        }
      ]
    },
    {
      "cell_type": "code",
      "source": [
        "stacking_clf.score(X_train_transformed.toarray(),y_train)"
      ],
      "metadata": {
        "colab": {
          "base_uri": "https://localhost:8080/"
        },
        "id": "7HH_UHGngFzp",
        "outputId": "2f6d8f76-3286-41db-8d4c-c71172b8849e"
      },
      "execution_count": null,
      "outputs": [
        {
          "output_type": "execute_result",
          "data": {
            "text/plain": [
              "0.8732656314577553"
            ]
          },
          "metadata": {},
          "execution_count": 93
        }
      ]
    },
    {
      "cell_type": "code",
      "source": [
        "stacking_clf.score(X_test_transformed.toarray(),y_test)"
      ],
      "metadata": {
        "colab": {
          "base_uri": "https://localhost:8080/"
        },
        "id": "4dhEj5bxhUac",
        "outputId": "aa5a58ed-812b-4b62-fbbf-16a7cc7d3892"
      },
      "execution_count": null,
      "outputs": [
        {
          "output_type": "execute_result",
          "data": {
            "text/plain": [
              "0.8530917280917281"
            ]
          },
          "metadata": {},
          "execution_count": 94
        }
      ]
    }
  ]
}