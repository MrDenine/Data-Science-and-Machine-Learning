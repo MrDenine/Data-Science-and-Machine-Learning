{
  "nbformat": 4,
  "nbformat_minor": 0,
  "metadata": {
    "colab": {
      "name": "Assignment KNN ML1043.ipynb",
      "provenance": [],
      "toc_visible": true
    },
    "kernelspec": {
      "name": "python3",
      "display_name": "Python 3"
    },
    "language_info": {
      "name": "python"
    },
    "accelerator": "GPU"
  },
  "cells": [
    {
      "cell_type": "markdown",
      "source": [
        "###import dataset"
      ],
      "metadata": {
        "id": "fvWk20KKjKeU"
      }
    },
    {
      "cell_type": "code",
      "execution_count": 1,
      "metadata": {
        "id": "Pj71NkkQipts"
      },
      "outputs": [],
      "source": [
        "import pandas as pd"
      ]
    },
    {
      "cell_type": "code",
      "source": [
        "df = pd.read_csv('/content/drive/MyDrive/KUxDEPA-Data-Science-and-Machine-Learning-Training-Course/dataset/Telco-Customer-Churn.csv')"
      ],
      "metadata": {
        "id": "VgV4ciwMjSFb"
      },
      "execution_count": 3,
      "outputs": []
    },
    {
      "cell_type": "code",
      "source": [
        "df.columns"
      ],
      "metadata": {
        "colab": {
          "base_uri": "https://localhost:8080/"
        },
        "id": "iqo64-0vjYK9",
        "outputId": "a7f55144-cf4e-435b-a3ba-d6ece1c5fba7"
      },
      "execution_count": 4,
      "outputs": [
        {
          "output_type": "execute_result",
          "data": {
            "text/plain": [
              "Index(['customerID', 'gender', 'SeniorCitizen', 'Partner', 'Dependents',\n",
              "       'tenure', 'PhoneService', 'MultipleLines', 'InternetService',\n",
              "       'OnlineSecurity', 'OnlineBackup', 'DeviceProtection', 'TechSupport',\n",
              "       'StreamingTV', 'StreamingMovies', 'Contract', 'PaperlessBilling',\n",
              "       'PaymentMethod', 'MonthlyCharges', 'TotalCharges', 'Churn'],\n",
              "      dtype='object')"
            ]
          },
          "metadata": {},
          "execution_count": 4
        }
      ]
    },
    {
      "cell_type": "code",
      "source": [
        "X = df[['tenure','PhoneService','MultipleLines','InternetService', 'OnlineSecurity', 'OnlineBackup', 'DeviceProtection', 'TechSupport',\n",
        "       'StreamingTV', 'StreamingMovies', 'Contract','MonthlyCharges']]"
      ],
      "metadata": {
        "id": "v8RG6Y4el89j"
      },
      "execution_count": 7,
      "outputs": []
    },
    {
      "cell_type": "code",
      "source": [
        "y = df['Churn']"
      ],
      "metadata": {
        "id": "xGxcRoFhnkLV"
      },
      "execution_count": 6,
      "outputs": []
    },
    {
      "cell_type": "markdown",
      "source": [
        "###Train Test Split"
      ],
      "metadata": {
        "id": "0p0LAT7EpEEl"
      }
    },
    {
      "cell_type": "code",
      "source": [
        "from sklearn.model_selection import train_test_split"
      ],
      "metadata": {
        "id": "nD3Liy-knop7"
      },
      "execution_count": 8,
      "outputs": []
    },
    {
      "cell_type": "code",
      "source": [
        "X_train,X_test,y_train,y_test = train_test_split(X,y,test_size=0.2)"
      ],
      "metadata": {
        "id": "9Eu9NyPbpIuZ"
      },
      "execution_count": 9,
      "outputs": []
    },
    {
      "cell_type": "markdown",
      "source": [
        "###OneHotEncoder, MinMaxScaler and Column transformer"
      ],
      "metadata": {
        "id": "XPt6P2fDpylQ"
      }
    },
    {
      "cell_type": "code",
      "source": [
        "from sklearn.compose import make_column_transformer\n",
        "from sklearn.preprocessing import MinMaxScaler\n",
        "from sklearn.preprocessing import OneHotEncoder"
      ],
      "metadata": {
        "id": "GwUBDtjWpjH6"
      },
      "execution_count": 16,
      "outputs": []
    },
    {
      "cell_type": "code",
      "source": [
        "df.columns"
      ],
      "metadata": {
        "colab": {
          "base_uri": "https://localhost:8080/"
        },
        "id": "cjmlwc2bqzfO",
        "outputId": "f13de57e-b7c7-4d7b-9abf-3aeaf1a17c25"
      },
      "execution_count": 11,
      "outputs": [
        {
          "output_type": "execute_result",
          "data": {
            "text/plain": [
              "Index(['customerID', 'gender', 'SeniorCitizen', 'Partner', 'Dependents',\n",
              "       'tenure', 'PhoneService', 'MultipleLines', 'InternetService',\n",
              "       'OnlineSecurity', 'OnlineBackup', 'DeviceProtection', 'TechSupport',\n",
              "       'StreamingTV', 'StreamingMovies', 'Contract', 'PaperlessBilling',\n",
              "       'PaymentMethod', 'MonthlyCharges', 'TotalCharges', 'Churn'],\n",
              "      dtype='object')"
            ]
          },
          "metadata": {},
          "execution_count": 11
        }
      ]
    },
    {
      "cell_type": "code",
      "source": [
        "X.columns"
      ],
      "metadata": {
        "colab": {
          "base_uri": "https://localhost:8080/"
        },
        "id": "Xf5qlvXqq5U8",
        "outputId": "27a38889-1f41-4dee-d10d-2e7b7e03b4c2"
      },
      "execution_count": 14,
      "outputs": [
        {
          "output_type": "execute_result",
          "data": {
            "text/plain": [
              "Index(['tenure', 'PhoneService', 'MultipleLines', 'InternetService',\n",
              "       'OnlineSecurity', 'OnlineBackup', 'DeviceProtection', 'TechSupport',\n",
              "       'StreamingTV', 'StreamingMovies', 'Contract', 'MonthlyCharges'],\n",
              "      dtype='object')"
            ]
          },
          "metadata": {},
          "execution_count": 14
        }
      ]
    },
    {
      "cell_type": "code",
      "source": [
        "transformer =  make_column_transformer(\n",
        "   (OneHotEncoder(),['PhoneService','MultipleLines','InternetService','OnlineSecurity', 'OnlineBackup', 'DeviceProtection', 'TechSupport',\n",
        "       'StreamingTV', 'StreamingMovies', 'Contract']),\n",
        "   (MinMaxScaler(),['tenure','MonthlyCharges']) \n",
        ")"
      ],
      "metadata": {
        "id": "n8dcBbk9qoPO"
      },
      "execution_count": 17,
      "outputs": []
    },
    {
      "cell_type": "code",
      "source": [
        "X_trainsformed = transformer.fit_transform(X_train)\n",
        "X_trainsformed"
      ],
      "metadata": {
        "colab": {
          "base_uri": "https://localhost:8080/"
        },
        "id": "ajmZK6CMsWL8",
        "outputId": "5244f646-78e3-48b3-92f4-b0ba32d3d83e"
      },
      "execution_count": 84,
      "outputs": [
        {
          "output_type": "execute_result",
          "data": {
            "text/plain": [
              "array([[0.        , 1.        , 0.        , ..., 0.        , 0.04166667,\n",
              "        0.57313433],\n",
              "       [0.        , 1.        , 0.        , ..., 0.        , 0.76388889,\n",
              "        0.41542289],\n",
              "       [0.        , 1.        , 1.        , ..., 0.        , 0.95833333,\n",
              "        0.85373134],\n",
              "       ...,\n",
              "       [0.        , 1.        , 1.        , ..., 0.        , 0.31944444,\n",
              "        0.76666667],\n",
              "       [0.        , 1.        , 1.        , ..., 0.        , 0.125     ,\n",
              "        0.50895522],\n",
              "       [0.        , 1.        , 1.        , ..., 0.        , 0.04166667,\n",
              "        0.01343284]])"
            ]
          },
          "metadata": {},
          "execution_count": 84
        }
      ]
    },
    {
      "cell_type": "markdown",
      "source": [
        "###Cross Validation Score"
      ],
      "metadata": {
        "id": "rmx8nSl2tHbr"
      }
    },
    {
      "cell_type": "code",
      "source": [
        "from sklearn.model_selection import cross_val_score\n",
        "from sklearn.neighbors import KNeighborsClassifier"
      ],
      "metadata": {
        "id": "k2GMs5vSsrzk"
      },
      "execution_count": 20,
      "outputs": []
    },
    {
      "cell_type": "code",
      "source": [
        "knn_cvA = KNeighborsClassifier(50)\n",
        "knn_cvB = KNeighborsClassifier(55)\n",
        "knn_cvC = KNeighborsClassifier(60)"
      ],
      "metadata": {
        "id": "bEjQavlGtT9i"
      },
      "execution_count": 94,
      "outputs": []
    },
    {
      "cell_type": "code",
      "source": [
        "cross_val_score(knn_cvA,X_trainsformed,y_train,cv=10)"
      ],
      "metadata": {
        "colab": {
          "base_uri": "https://localhost:8080/"
        },
        "id": "GcwArBsbtshO",
        "outputId": "1a024c9b-3e2b-44d4-ecc2-f27992ad5630"
      },
      "execution_count": 95,
      "outputs": [
        {
          "output_type": "execute_result",
          "data": {
            "text/plain": [
              "array([0.78368794, 0.80141844, 0.76950355, 0.79432624, 0.81349911,\n",
              "       0.77797513, 0.80461812, 0.77264654, 0.77797513, 0.77264654])"
            ]
          },
          "metadata": {},
          "execution_count": 95
        }
      ]
    },
    {
      "cell_type": "code",
      "source": [
        "cross_val_score(knn_cvB,X_trainsformed,y_train,cv=10)"
      ],
      "metadata": {
        "colab": {
          "base_uri": "https://localhost:8080/"
        },
        "id": "iy8oN3OKugVp",
        "outputId": "0c0f4980-e72a-44c8-ec05-ce9311c4529a"
      },
      "execution_count": 96,
      "outputs": [
        {
          "output_type": "execute_result",
          "data": {
            "text/plain": [
              "array([0.78191489, 0.80673759, 0.7641844 , 0.79609929, 0.81349911,\n",
              "       0.78507993, 0.80106572, 0.76198934, 0.77619893, 0.76909414])"
            ]
          },
          "metadata": {},
          "execution_count": 96
        }
      ]
    },
    {
      "cell_type": "code",
      "source": [
        "cross_val_score(knn_cvC,X_trainsformed,y_train,cv=10)"
      ],
      "metadata": {
        "colab": {
          "base_uri": "https://localhost:8080/"
        },
        "id": "sex-Sr7UuhQJ",
        "outputId": "aa01b25f-ffa7-492d-baf6-2e786102ff17"
      },
      "execution_count": 97,
      "outputs": [
        {
          "output_type": "execute_result",
          "data": {
            "text/plain": [
              "array([0.78546099, 0.80496454, 0.77659574, 0.81205674, 0.80994671,\n",
              "       0.78685613, 0.79573712, 0.76376554, 0.78152753, 0.77619893])"
            ]
          },
          "metadata": {},
          "execution_count": 97
        }
      ]
    },
    {
      "cell_type": "code",
      "source": [
        "cross_val_score(knn_cvA,X_trainsformed,y_train,cv=10).mean()"
      ],
      "metadata": {
        "colab": {
          "base_uri": "https://localhost:8080/"
        },
        "id": "n--avAUrt9Y0",
        "outputId": "9e04a4e3-8532-4d67-ce8e-c4226723df1f"
      },
      "execution_count": 98,
      "outputs": [
        {
          "output_type": "execute_result",
          "data": {
            "text/plain": [
              "0.7868296738596425"
            ]
          },
          "metadata": {},
          "execution_count": 98
        }
      ]
    },
    {
      "cell_type": "code",
      "source": [
        "cross_val_score(knn_cvB,X_trainsformed,y_train,cv=10).mean()"
      ],
      "metadata": {
        "colab": {
          "base_uri": "https://localhost:8080/"
        },
        "id": "vcKYYcfLunyO",
        "outputId": "2992e61a-f3a3-412f-d9b9-1c75c65fb995"
      },
      "execution_count": 99,
      "outputs": [
        {
          "output_type": "execute_result",
          "data": {
            "text/plain": [
              "0.7855863346056461"
            ]
          },
          "metadata": {},
          "execution_count": 99
        }
      ]
    },
    {
      "cell_type": "code",
      "source": [
        "cross_val_score(knn_cvC,X_trainsformed,y_train,cv=10).mean()"
      ],
      "metadata": {
        "colab": {
          "base_uri": "https://localhost:8080/"
        },
        "id": "H7K4I9AEuAPK",
        "outputId": "41711af6-daea-481a-8494-f6529eae9f49"
      },
      "execution_count": 100,
      "outputs": [
        {
          "output_type": "execute_result",
          "data": {
            "text/plain": [
              "0.7893109985765214"
            ]
          },
          "metadata": {},
          "execution_count": 100
        }
      ]
    },
    {
      "cell_type": "markdown",
      "source": [
        "### Grid Search"
      ],
      "metadata": {
        "id": "z3mrCJ5I2iZb"
      }
    },
    {
      "cell_type": "code",
      "source": [
        "from sklearn.model_selection import GridSearchCV"
      ],
      "metadata": {
        "id": "VoYqYept2lHe"
      },
      "execution_count": 101,
      "outputs": []
    },
    {
      "cell_type": "code",
      "source": [
        "knn_Search = KNeighborsClassifier()"
      ],
      "metadata": {
        "id": "apYSy2p62pnK"
      },
      "execution_count": 102,
      "outputs": []
    },
    {
      "cell_type": "code",
      "source": [
        "parameter_grid  = {'n_neighbors':(40,45,50,55,60)}"
      ],
      "metadata": {
        "id": "Ulz9sOVv2rdW"
      },
      "execution_count": 103,
      "outputs": []
    },
    {
      "cell_type": "code",
      "source": [
        "grid_search = GridSearchCV(knn_Search,\n",
        "                           parameter_grid,\n",
        "                           cv=10)"
      ],
      "metadata": {
        "id": "ZcuqUqKm2tHi"
      },
      "execution_count": 104,
      "outputs": []
    },
    {
      "cell_type": "code",
      "source": [
        "grid_search.fit(X_trainsformed,y_train) "
      ],
      "metadata": {
        "colab": {
          "base_uri": "https://localhost:8080/"
        },
        "id": "RYv0TdIu2-jF",
        "outputId": "89169e2b-4a28-4acd-b5f8-a2709b4f8af2"
      },
      "execution_count": 105,
      "outputs": [
        {
          "output_type": "execute_result",
          "data": {
            "text/plain": [
              "GridSearchCV(cv=10, estimator=KNeighborsClassifier(),\n",
              "             param_grid={'n_neighbors': (40, 45, 50, 55, 60)})"
            ]
          },
          "metadata": {},
          "execution_count": 105
        }
      ]
    },
    {
      "cell_type": "code",
      "source": [
        "grid_search.best_params_ , grid_search.best_score_"
      ],
      "metadata": {
        "colab": {
          "base_uri": "https://localhost:8080/"
        },
        "id": "cfFx9Bu62wIK",
        "outputId": "adf7af12-f539-4b00-e51d-6a2b1556b3f1"
      },
      "execution_count": 106,
      "outputs": [
        {
          "output_type": "execute_result",
          "data": {
            "text/plain": [
              "({'n_neighbors': 60}, 0.7893109985765214)"
            ]
          },
          "metadata": {},
          "execution_count": 106
        }
      ]
    },
    {
      "cell_type": "markdown",
      "source": [
        "### Accuracy, Precision, Recall and F1-Score"
      ],
      "metadata": {
        "id": "ftP3KqC86b_V"
      }
    },
    {
      "cell_type": "code",
      "source": [
        "from sklearn.metrics import accuracy_score, precision_score,recall_score,f1_score"
      ],
      "metadata": {
        "id": "pEMyCGNV5eFi"
      },
      "execution_count": 107,
      "outputs": []
    },
    {
      "cell_type": "code",
      "source": [
        "predicted_y = grid_search.predict(transformer.transform(X_test))"
      ],
      "metadata": {
        "id": "6ELhXogE8FbN"
      },
      "execution_count": 108,
      "outputs": []
    },
    {
      "cell_type": "code",
      "source": [
        "accuracy =  accuracy_score(y_test,predicted_y)\n",
        "precision =precision_score(y_test,predicted_y,pos_label=\"Yes\")\n",
        "recall = recall_score(y_test,predicted_y,pos_label=\"Yes\")\n",
        "f1 = f1_score(y_test,predicted_y,pos_label=\"Yes\")"
      ],
      "metadata": {
        "id": "VwljP5Gs8_lL"
      },
      "execution_count": 110,
      "outputs": []
    },
    {
      "cell_type": "code",
      "source": [
        "accuracy, precision, recall, f1"
      ],
      "metadata": {
        "colab": {
          "base_uri": "https://localhost:8080/"
        },
        "id": "eT_TQfxG9y53",
        "outputId": "56014917-12fa-4f6e-ae89-9ef9ffc589cc"
      },
      "execution_count": 113,
      "outputs": [
        {
          "output_type": "execute_result",
          "data": {
            "text/plain": [
              "(0.8097941802696949,\n",
              " 0.6435643564356436,\n",
              " 0.5492957746478874,\n",
              " 0.5927051671732524)"
            ]
          },
          "metadata": {},
          "execution_count": 113
        }
      ]
    },
    {
      "cell_type": "markdown",
      "source": [
        "###Confusion Matrix"
      ],
      "metadata": {
        "id": "kNz76fw3-GX6"
      }
    },
    {
      "cell_type": "code",
      "source": [
        "from sklearn.metrics import confusion_matrix, ConfusionMatrixDisplay"
      ],
      "metadata": {
        "id": "De4vvO_O-KYM"
      },
      "execution_count": 114,
      "outputs": []
    },
    {
      "cell_type": "code",
      "source": [
        "confusion_matrix(y_test,predicted_y)"
      ],
      "metadata": {
        "colab": {
          "base_uri": "https://localhost:8080/"
        },
        "id": "Y7ZAdH-0-XaO",
        "outputId": "bd6eaed7-4482-49e7-adb2-2211a29d49c0"
      },
      "execution_count": 115,
      "outputs": [
        {
          "output_type": "execute_result",
          "data": {
            "text/plain": [
              "array([[946, 108],\n",
              "       [160, 195]])"
            ]
          },
          "metadata": {},
          "execution_count": 115
        }
      ]
    },
    {
      "cell_type": "code",
      "source": [
        "ConfusionMatrixDisplay.from_predictions(y_test,predicted_y)"
      ],
      "metadata": {
        "colab": {
          "base_uri": "https://localhost:8080/",
          "height": 297
        },
        "id": "7dIAdMub-fPx",
        "outputId": "afa737a7-5f6c-4f57-fa16-565d0b3a07be"
      },
      "execution_count": 116,
      "outputs": [
        {
          "output_type": "execute_result",
          "data": {
            "text/plain": [
              "<sklearn.metrics._plot.confusion_matrix.ConfusionMatrixDisplay at 0x7f9f5b3a8f10>"
            ]
          },
          "metadata": {},
          "execution_count": 116
        },
        {
          "output_type": "display_data",
          "data": {
            "text/plain": [
              "<Figure size 432x288 with 2 Axes>"
            ],
            "image/png": "[encoded data removed]"
          },
          "metadata": {
            "needs_background": "light"
          }
        }
      ]
    }
  ]
}