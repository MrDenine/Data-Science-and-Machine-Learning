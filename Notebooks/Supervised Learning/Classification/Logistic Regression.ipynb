{
  "nbformat": 4,
  "nbformat_minor": 0,
  "metadata": {
    "colab": {
      "name": "LogisticRegression.ipynb",
      "provenance": []
    },
    "kernelspec": {
      "name": "python3",
      "display_name": "Python 3"
    },
    "language_info": {
      "name": "python"
    }
  },
  "cells": [
    {
      "cell_type": "markdown",
      "source": [
        "##Preparing Dataset"
      ],
      "metadata": {
        "id": "z7OtEyElR0wH"
      }
    },
    {
      "cell_type": "code",
      "execution_count": null,
      "metadata": {
        "id": "7St3ykYcRpNl"
      },
      "outputs": [],
      "source": [
        "import pandas as pd"
      ]
    },
    {
      "cell_type": "code",
      "source": [
        "df1 = pd.read_csv('/content/drive/MyDrive/KUxDEPA-Data-Science-and-Machine-Learning-Training-Course/dataset/01-census-income.csv')"
      ],
      "metadata": {
        "id": "K7a1gVq8RykT"
      },
      "execution_count": null,
      "outputs": []
    },
    {
      "cell_type": "code",
      "source": [
        "df2 = pd.read_csv('/content/drive/MyDrive/KUxDEPA-Data-Science-and-Machine-Learning-Training-Course/dataset/02-future-census.csv')"
      ],
      "metadata": {
        "id": "9D3-WkBWSDdc"
      },
      "execution_count": null,
      "outputs": []
    },
    {
      "cell_type": "code",
      "source": [
        "df1.columns"
      ],
      "metadata": {
        "colab": {
          "base_uri": "https://localhost:8080/"
        },
        "id": "3RLK6KS8SIsf",
        "outputId": "c40b84a8-e018-45dc-8399-8ee48ed06b6f"
      },
      "execution_count": null,
      "outputs": [
        {
          "output_type": "execute_result",
          "data": {
            "text/plain": [
              "Index(['age', 'workclass', 'weight', 'education', 'edu num', 'marital status',\n",
              "       'occupation', 'relationship', 'race', 'sex', 'capital-gain',\n",
              "       'capital-loss', 'hours-per-week', 'native country', 'label'],\n",
              "      dtype='object')"
            ]
          },
          "metadata": {},
          "execution_count": 6
        }
      ]
    },
    {
      "cell_type": "code",
      "source": [
        "cols=['age', 'edu num', 'marital status','occupation', 'sex', 'capital-gain',\n",
        "       'capital-loss','hours-per-week']"
      ],
      "metadata": {
        "id": "KzXL5FGFSKfy"
      },
      "execution_count": null,
      "outputs": []
    },
    {
      "cell_type": "code",
      "source": [
        "X_train = df1[cols]\n",
        "X_test = df2[cols]"
      ],
      "metadata": {
        "id": "_IZfu7FvSZ72"
      },
      "execution_count": null,
      "outputs": []
    },
    {
      "cell_type": "code",
      "source": [
        "y_train = df1['label']\n",
        "y_test = df2['label']"
      ],
      "metadata": {
        "id": "jM6du3KOSe3e"
      },
      "execution_count": null,
      "outputs": []
    },
    {
      "cell_type": "markdown",
      "source": [
        "##Transform Data"
      ],
      "metadata": {
        "id": "E4s_p5KHSrDA"
      }
    },
    {
      "cell_type": "code",
      "source": [
        "from sklearn.preprocessing import OneHotEncoder ,StandardScaler\n",
        "from sklearn.compose import make_column_transformer"
      ],
      "metadata": {
        "id": "vdy6dBsYSoNX"
      },
      "execution_count": null,
      "outputs": []
    },
    {
      "cell_type": "code",
      "source": [
        "transformer = make_column_transformer(\n",
        "    (OneHotEncoder(),['marital status','occupation', 'sex']),\n",
        "    (StandardScaler(),['age', 'edu num', 'capital-gain',\n",
        "       'capital-loss','hours-per-week'])\n",
        ")"
      ],
      "metadata": {
        "id": "pDoK72AIS6nn"
      },
      "execution_count": null,
      "outputs": []
    },
    {
      "cell_type": "code",
      "source": [
        "transformer.fit(X_train)"
      ],
      "metadata": {
        "colab": {
          "base_uri": "https://localhost:8080/"
        },
        "id": "9hFv_t2RTTBs",
        "outputId": "1c9ad8e7-3aa4-4371-f415-50b95b21f375"
      },
      "execution_count": null,
      "outputs": [
        {
          "output_type": "execute_result",
          "data": {
            "text/plain": [
              "ColumnTransformer(transformers=[('onehotencoder', OneHotEncoder(),\n",
              "                                 ['marital status', 'occupation', 'sex']),\n",
              "                                ('standardscaler', StandardScaler(),\n",
              "                                 ['age', 'edu num', 'capital-gain',\n",
              "                                  'capital-loss', 'hours-per-week'])])"
            ]
          },
          "metadata": {},
          "execution_count": 14
        }
      ]
    },
    {
      "cell_type": "code",
      "source": [
        "X_train_transformed = transformer.transform(X_train)\n",
        "X_test_transformed = transformer.transform(X_test)"
      ],
      "metadata": {
        "id": "400ZmfWPTd06"
      },
      "execution_count": null,
      "outputs": []
    },
    {
      "cell_type": "code",
      "source": [
        "transformer.get_feature_names_out()"
      ],
      "metadata": {
        "colab": {
          "base_uri": "https://localhost:8080/"
        },
        "id": "R78jbL6UUIUt",
        "outputId": "56e97d1d-658f-4981-a609-5b7d9dc0749b"
      },
      "execution_count": null,
      "outputs": [
        {
          "output_type": "execute_result",
          "data": {
            "text/plain": [
              "array(['onehotencoder__marital status_ Divorced',\n",
              "       'onehotencoder__marital status_ Married-AF-spouse',\n",
              "       'onehotencoder__marital status_ Married-civ-spouse',\n",
              "       'onehotencoder__marital status_ Married-spouse-absent',\n",
              "       'onehotencoder__marital status_ Never-married',\n",
              "       'onehotencoder__marital status_ Separated',\n",
              "       'onehotencoder__marital status_ Widowed',\n",
              "       'onehotencoder__occupation_ ?',\n",
              "       'onehotencoder__occupation_ Adm-clerical',\n",
              "       'onehotencoder__occupation_ Armed-Forces',\n",
              "       'onehotencoder__occupation_ Craft-repair',\n",
              "       'onehotencoder__occupation_ Exec-managerial',\n",
              "       'onehotencoder__occupation_ Farming-fishing',\n",
              "       'onehotencoder__occupation_ Handlers-cleaners',\n",
              "       'onehotencoder__occupation_ Machine-op-inspct',\n",
              "       'onehotencoder__occupation_ Other-service',\n",
              "       'onehotencoder__occupation_ Priv-house-serv',\n",
              "       'onehotencoder__occupation_ Prof-specialty',\n",
              "       'onehotencoder__occupation_ Protective-serv',\n",
              "       'onehotencoder__occupation_ Sales',\n",
              "       'onehotencoder__occupation_ Tech-support',\n",
              "       'onehotencoder__occupation_ Transport-moving',\n",
              "       'onehotencoder__sex_ Female', 'onehotencoder__sex_ Male',\n",
              "       'standardscaler__age', 'standardscaler__edu num',\n",
              "       'standardscaler__capital-gain', 'standardscaler__capital-loss',\n",
              "       'standardscaler__hours-per-week'], dtype=object)"
            ]
          },
          "metadata": {},
          "execution_count": 17
        }
      ]
    },
    {
      "cell_type": "markdown",
      "source": [
        "##LogisticRegression"
      ],
      "metadata": {
        "id": "tyzpDEaIU1qw"
      }
    },
    {
      "cell_type": "code",
      "source": [
        "from sklearn.linear_model import LogisticRegression"
      ],
      "metadata": {
        "id": "Xt8FviLpUOWK"
      },
      "execution_count": null,
      "outputs": []
    },
    {
      "cell_type": "code",
      "source": [
        "logreg = LogisticRegression(max_iter=1000,warm_start=True)\n",
        "logreg.fit(X_train_transformed , y_train)"
      ],
      "metadata": {
        "colab": {
          "base_uri": "https://localhost:8080/"
        },
        "id": "0yNbxiviUwym",
        "outputId": "8796f51c-b229-444f-dadc-a3758a80b09f"
      },
      "execution_count": null,
      "outputs": [
        {
          "output_type": "execute_result",
          "data": {
            "text/plain": [
              "LogisticRegression(max_iter=1000, warm_start=True)"
            ]
          },
          "metadata": {},
          "execution_count": 32
        }
      ]
    },
    {
      "cell_type": "code",
      "source": [
        "logreg.score(X_train_transformed,y_train)"
      ],
      "metadata": {
        "colab": {
          "base_uri": "https://localhost:8080/"
        },
        "id": "YU7_SyASV57c",
        "outputId": "a45cfc97-e0de-4368-f3e9-431eff26493e"
      },
      "execution_count": null,
      "outputs": [
        {
          "output_type": "execute_result",
          "data": {
            "text/plain": [
              "0.8496486981165495"
            ]
          },
          "metadata": {},
          "execution_count": 33
        }
      ]
    },
    {
      "cell_type": "code",
      "source": [
        "logreg.score(X_test_transformed,y_test)"
      ],
      "metadata": {
        "colab": {
          "base_uri": "https://localhost:8080/"
        },
        "id": "JzAd7XsUWM_a",
        "outputId": "96a304b4-6c91-48c9-e479-fae3ebbb7089"
      },
      "execution_count": null,
      "outputs": [
        {
          "output_type": "execute_result",
          "data": {
            "text/plain": [
              "0.8506347256347256"
            ]
          },
          "metadata": {},
          "execution_count": 34
        }
      ]
    },
    {
      "cell_type": "code",
      "source": [
        "logreg.decision_function(X_test_transformed[5:10])"
      ],
      "metadata": {
        "colab": {
          "base_uri": "https://localhost:8080/"
        },
        "id": "iEIqlMXdWVmA",
        "outputId": "9ce3726c-717a-4da8-a027-06a5b5c61957"
      },
      "execution_count": null,
      "outputs": [
        {
          "output_type": "execute_result",
          "data": {
            "text/plain": [
              "array([-1.59152411,  1.23993933, -1.80480239, -0.21706524,  0.35028304])"
            ]
          },
          "metadata": {},
          "execution_count": 31
        }
      ]
    },
    {
      "cell_type": "markdown",
      "source": [
        "##Support Vector Machines (SVM)"
      ],
      "metadata": {
        "id": "bQUtjYlSj3f6"
      }
    },
    {
      "cell_type": "markdown",
      "source": [
        "###Linear SVC"
      ],
      "metadata": {
        "id": "J_kfZJS5mNgO"
      }
    },
    {
      "cell_type": "code",
      "source": [
        "from sklearn.svm import LinearSVC"
      ],
      "metadata": {
        "id": "dAtt3Yp7jDlO"
      },
      "execution_count": null,
      "outputs": []
    },
    {
      "cell_type": "code",
      "source": [
        "lin_svc = LinearSVC(max_iter=5000)\n",
        "lin_svc.fit(X_train_transformed,y_train)"
      ],
      "metadata": {
        "colab": {
          "base_uri": "https://localhost:8080/"
        },
        "id": "IAt9kW4_k4TI",
        "outputId": "45547ea1-4d03-47ac-da91-077dd1dcc0fa"
      },
      "execution_count": null,
      "outputs": [
        {
          "output_type": "execute_result",
          "data": {
            "text/plain": [
              "LinearSVC(max_iter=5000)"
            ]
          },
          "metadata": {},
          "execution_count": 37
        }
      ]
    },
    {
      "cell_type": "code",
      "source": [
        "lin_svc.score(X_train_transformed,y_train)"
      ],
      "metadata": {
        "colab": {
          "base_uri": "https://localhost:8080/"
        },
        "id": "TtnKibkClOh2",
        "outputId": "08128b8c-80f4-47f2-ef02-de197da2b3a6"
      },
      "execution_count": null,
      "outputs": [
        {
          "output_type": "execute_result",
          "data": {
            "text/plain": [
              "0.8491763594497255"
            ]
          },
          "metadata": {},
          "execution_count": 38
        }
      ]
    },
    {
      "cell_type": "code",
      "source": [
        "lin_svc.score(X_test_transformed,y_test)"
      ],
      "metadata": {
        "colab": {
          "base_uri": "https://localhost:8080/"
        },
        "id": "w4jF6ScolZMU",
        "outputId": "48958a62-e316-4617-fc5c-867753fc0e9a"
      },
      "execution_count": null,
      "outputs": [
        {
          "output_type": "execute_result",
          "data": {
            "text/plain": [
              "0.8520679770679771"
            ]
          },
          "metadata": {},
          "execution_count": 39
        }
      ]
    },
    {
      "cell_type": "code",
      "source": [
        "lin_svc.intercept_,lin_svc.coef_"
      ],
      "metadata": {
        "colab": {
          "base_uri": "https://localhost:8080/"
        },
        "id": "LXRZUHxwleBj",
        "outputId": "46628336-b1f2-4aed-efd7-ff1eab7a6b1e"
      },
      "execution_count": null,
      "outputs": [
        {
          "output_type": "execute_result",
          "data": {
            "text/plain": [
              "(array([-0.4317105]),\n",
              " array([[-0.28583671,  0.63418977,  0.41900813, -0.25818602, -0.40039118,\n",
              "         -0.25665248, -0.28384201, -0.24461635,  0.0772163 ,  0.3523996 ,\n",
              "         -0.02234785,  0.29195433, -0.43638019, -0.25474164, -0.13444225,\n",
              "         -0.2834079 , -0.38529888,  0.19692774,  0.16493948,  0.10657685,\n",
              "          0.20971419, -0.07020394, -0.24529795, -0.18641256,  0.10591114,\n",
              "          0.24075284,  0.76208057,  0.09159252,  0.11826128]]))"
            ]
          },
          "metadata": {},
          "execution_count": 42
        }
      ]
    },
    {
      "cell_type": "code",
      "source": [
        "lin_svc.decision_function(X_test_transformed[5:10])"
      ],
      "metadata": {
        "colab": {
          "base_uri": "https://localhost:8080/"
        },
        "id": "IaVAOGOVlxDX",
        "outputId": "fd74b8dd-c3cd-409e-bd5d-c6b38da95d6c"
      },
      "execution_count": null,
      "outputs": [
        {
          "output_type": "execute_result",
          "data": {
            "text/plain": [
              "array([-0.52977483,  0.40043864, -0.63181762, -0.07334732,  0.10861945])"
            ]
          },
          "metadata": {},
          "execution_count": 43
        }
      ]
    },
    {
      "cell_type": "markdown",
      "source": [
        "###Support Vector Classifier (SVC)"
      ],
      "metadata": {
        "id": "jUUGTZ0_mUQK"
      }
    },
    {
      "cell_type": "code",
      "source": [
        "from sklearn.svm import SVC"
      ],
      "metadata": {
        "id": "_V6kBl6Cl0Qt"
      },
      "execution_count": null,
      "outputs": []
    },
    {
      "cell_type": "code",
      "source": [
        "svc_rbf = SVC(kernel='rbf')\n",
        "svc_rbf.fit(X_train_transformed,y_train)"
      ],
      "metadata": {
        "colab": {
          "base_uri": "https://localhost:8080/"
        },
        "id": "yla4AFUloXCu",
        "outputId": "86ba6139-0451-4eb0-b332-afe19b0eae1b"
      },
      "execution_count": null,
      "outputs": [
        {
          "output_type": "execute_result",
          "data": {
            "text/plain": [
              "SVC()"
            ]
          },
          "metadata": {},
          "execution_count": 46
        }
      ]
    },
    {
      "cell_type": "code",
      "source": [
        "svc_rbf.score(X_train_transformed,y_train)"
      ],
      "metadata": {
        "colab": {
          "base_uri": "https://localhost:8080/"
        },
        "id": "f2C5tcdEobWP",
        "outputId": "a795ad6c-0882-4c78-f349-90e7e92d9a52"
      },
      "execution_count": null,
      "outputs": [
        {
          "output_type": "execute_result",
          "data": {
            "text/plain": [
              "0.8587412174529138"
            ]
          },
          "metadata": {},
          "execution_count": 47
        }
      ]
    },
    {
      "cell_type": "code",
      "source": [
        "svc_rbf.score(X_test_transformed,y_test)"
      ],
      "metadata": {
        "colab": {
          "base_uri": "https://localhost:8080/"
        },
        "id": "h4rshvlOpGV5",
        "outputId": "1b3d8d42-6bd1-4078-8914-6c52aa4ff30d"
      },
      "execution_count": null,
      "outputs": [
        {
          "output_type": "execute_result",
          "data": {
            "text/plain": [
              "0.8552416052416052"
            ]
          },
          "metadata": {},
          "execution_count": 48
        }
      ]
    },
    {
      "cell_type": "code",
      "source": [
        ""
      ],
      "metadata": {
        "id": "9dsU7wnlpMzL"
      },
      "execution_count": null,
      "outputs": []
    }
  ]
}