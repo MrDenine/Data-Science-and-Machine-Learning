{
  "nbformat": 4,
  "nbformat_minor": 0,
  "metadata": {
    "colab": {
      "name": "Decision Tree.ipynb",
      "provenance": [],
      "collapsed_sections": [
        "Ay31vu3sHLtB"
      ]
    },
    "kernelspec": {
      "name": "python3",
      "display_name": "Python 3"
    },
    "language_info": {
      "name": "python"
    },
    "accelerator": "GPU"
  },
  "cells": [
    {
      "cell_type": "markdown",
      "source": [
        "##Preparing Dataset"
      ],
      "metadata": {
        "id": "76vVkbDF_9MJ"
      }
    },
    {
      "cell_type": "code",
      "execution_count": null,
      "metadata": {
        "id": "LmVtHHpX3RrD"
      },
      "outputs": [],
      "source": [
        "import pandas as pd"
      ]
    },
    {
      "cell_type": "code",
      "source": [
        "df1 = pd.read_csv('/content/drive/MyDrive/KUxDEPA-Data-Science-and-Machine-Learning-Training-Course/dataset/01-census-income.csv')"
      ],
      "metadata": {
        "id": "hZ725EolAVBi"
      },
      "execution_count": null,
      "outputs": []
    },
    {
      "cell_type": "code",
      "source": [
        "df2 = pd.read_csv('/content/drive/MyDrive/KUxDEPA-Data-Science-and-Machine-Learning-Training-Course/dataset/02-future-census.csv')"
      ],
      "metadata": {
        "id": "LyAcnnnqAl6J"
      },
      "execution_count": null,
      "outputs": []
    },
    {
      "cell_type": "code",
      "source": [
        "df1.columns"
      ],
      "metadata": {
        "colab": {
          "base_uri": "https://localhost:8080/"
        },
        "id": "sAE5aoTPAuwu",
        "outputId": "e2403afc-2194-4e09-938a-66235e596ad4"
      },
      "execution_count": null,
      "outputs": [
        {
          "output_type": "execute_result",
          "data": {
            "text/plain": [
              "Index(['age', 'workclass', 'weight', 'education', 'edu num', 'marital status',\n",
              "       'occupation', 'relationship', 'race', 'sex', 'capital-gain',\n",
              "       'capital-loss', 'hours-per-week', 'native country', 'label'],\n",
              "      dtype='object')"
            ]
          },
          "metadata": {},
          "execution_count": 5
        }
      ]
    },
    {
      "cell_type": "code",
      "source": [
        "cols = ['age','edu num','marital status', 'sex',  'capital-gain',\n",
        "       'capital-loss', 'hours-per-week']"
      ],
      "metadata": {
        "id": "x-vntS_-Aqes"
      },
      "execution_count": null,
      "outputs": []
    },
    {
      "cell_type": "code",
      "source": [
        "X_train = df1[cols]\n",
        "X_test = df2[cols]"
      ],
      "metadata": {
        "id": "x7bgVcz6A6Oa"
      },
      "execution_count": null,
      "outputs": []
    },
    {
      "cell_type": "code",
      "source": [
        "y_train = df1['label']\n",
        "y_test = df2['label']"
      ],
      "metadata": {
        "id": "r_KeGK7sBLjP"
      },
      "execution_count": null,
      "outputs": []
    },
    {
      "cell_type": "markdown",
      "source": [
        "##Transform Data"
      ],
      "metadata": {
        "id": "SgRAcWxhGzRg"
      }
    },
    {
      "cell_type": "code",
      "source": [
        "from sklearn.preprocessing import OneHotEncoder\n",
        "from sklearn.compose import make_column_transformer"
      ],
      "metadata": {
        "id": "ax5Wx7VNBWmC"
      },
      "execution_count": null,
      "outputs": []
    },
    {
      "cell_type": "code",
      "source": [
        "transformer = make_column_transformer(\n",
        "  ( OneHotEncoder(), ['marital status', 'sex'] ),\n",
        "  remainder='passthrough'\n",
        ")"
      ],
      "metadata": {
        "id": "nqRWcPtjBc72"
      },
      "execution_count": null,
      "outputs": []
    },
    {
      "cell_type": "code",
      "source": [
        "X_train_transformed = transformer.fit_transform(X_train)"
      ],
      "metadata": {
        "id": "Rc7kF_C-B7C1"
      },
      "execution_count": null,
      "outputs": []
    },
    {
      "cell_type": "code",
      "source": [
        "X_test_transformed = transformer.transform(X_test)"
      ],
      "metadata": {
        "id": "DejHXWldC0A_"
      },
      "execution_count": null,
      "outputs": []
    },
    {
      "cell_type": "markdown",
      "source": [
        "##Decision Tree"
      ],
      "metadata": {
        "id": "c8kgi041DBk1"
      }
    },
    {
      "cell_type": "markdown",
      "source": [
        "###Fitting Model"
      ],
      "metadata": {
        "id": "m4kRBQeWG856"
      }
    },
    {
      "cell_type": "code",
      "source": [
        "from sklearn.tree import DecisionTreeClassifier"
      ],
      "metadata": {
        "id": "jVDNCJn7CPl_"
      },
      "execution_count": null,
      "outputs": []
    },
    {
      "cell_type": "code",
      "source": [
        "dtree = DecisionTreeClassifier()"
      ],
      "metadata": {
        "id": "TrgSMrlfDHzp"
      },
      "execution_count": null,
      "outputs": []
    },
    {
      "cell_type": "code",
      "source": [
        "dtree.fit(X_train_transformed,y_train)"
      ],
      "metadata": {
        "colab": {
          "base_uri": "https://localhost:8080/"
        },
        "id": "Nh3yoSi2DvQp",
        "outputId": "56096e09-df23-48e1-b333-5b614e959155"
      },
      "execution_count": null,
      "outputs": [
        {
          "output_type": "execute_result",
          "data": {
            "text/plain": [
              "DecisionTreeClassifier()"
            ]
          },
          "metadata": {},
          "execution_count": 28
        }
      ]
    },
    {
      "cell_type": "code",
      "source": [
        "dtree.score(X_train_transformed,y_train)"
      ],
      "metadata": {
        "colab": {
          "base_uri": "https://localhost:8080/"
        },
        "id": "eD1NuvrYD9Qw",
        "outputId": "6eee503e-e4fb-4e31-9bfd-431ecf67bfe6"
      },
      "execution_count": null,
      "outputs": [
        {
          "output_type": "execute_result",
          "data": {
            "text/plain": [
              "0.9190824821396941"
            ]
          },
          "metadata": {},
          "execution_count": 30
        }
      ]
    },
    {
      "cell_type": "code",
      "source": [
        "dtree.score(X_test_transformed,y_test)"
      ],
      "metadata": {
        "colab": {
          "base_uri": "https://localhost:8080/"
        },
        "id": "j5B8-eYGD3ei",
        "outputId": "79d1bec7-020b-4133-87c7-7eee74baac41"
      },
      "execution_count": null,
      "outputs": [
        {
          "output_type": "execute_result",
          "data": {
            "text/plain": [
              "0.834971334971335"
            ]
          },
          "metadata": {},
          "execution_count": 29
        }
      ]
    },
    {
      "cell_type": "markdown",
      "source": [
        "###Fitting Model with Hyperparameter"
      ],
      "metadata": {
        "id": "rMa8auiNHBlU"
      }
    },
    {
      "cell_type": "code",
      "source": [
        "dtree2 = DecisionTreeClassifier(max_depth=10,\n",
        "                                min_samples_split=30,\n",
        "                                min_samples_leaf=200)"
      ],
      "metadata": {
        "id": "-K7ISAyeFI2K"
      },
      "execution_count": null,
      "outputs": []
    },
    {
      "cell_type": "code",
      "source": [
        "dtree2.fit(X_train_transformed,y_train)"
      ],
      "metadata": {
        "colab": {
          "base_uri": "https://localhost:8080/"
        },
        "id": "VirMpB2QFREQ",
        "outputId": "1faaaaa0-3e4d-4145-d614-78d6990a9e2b"
      },
      "execution_count": null,
      "outputs": [
        {
          "output_type": "execute_result",
          "data": {
            "text/plain": [
              "DecisionTreeClassifier(max_depth=10, min_samples_leaf=200, min_samples_split=30)"
            ]
          },
          "metadata": {},
          "execution_count": 92
        }
      ]
    },
    {
      "cell_type": "code",
      "source": [
        "dtree2.score(X_train_transformed,y_train)"
      ],
      "metadata": {
        "colab": {
          "base_uri": "https://localhost:8080/"
        },
        "id": "-NbYHLgiFqTk",
        "outputId": "870c550a-398d-4c68-cda8-66b605e90dec"
      },
      "execution_count": null,
      "outputs": [
        {
          "output_type": "execute_result",
          "data": {
            "text/plain": [
              "0.8547853811182617"
            ]
          },
          "metadata": {},
          "execution_count": 93
        }
      ]
    },
    {
      "cell_type": "code",
      "source": [
        "dtree2.score(X_test_transformed,y_test)"
      ],
      "metadata": {
        "colab": {
          "base_uri": "https://localhost:8080/"
        },
        "id": "_haNTrWsFVmq",
        "outputId": "5496818f-4b4b-47ff-879b-a185ef5b14e3"
      },
      "execution_count": null,
      "outputs": [
        {
          "output_type": "execute_result",
          "data": {
            "text/plain": [
              "0.8530917280917281"
            ]
          },
          "metadata": {},
          "execution_count": 94
        }
      ]
    },
    {
      "cell_type": "markdown",
      "source": [
        "###Feature importance"
      ],
      "metadata": {
        "id": "qqWCO4NPK3pd"
      }
    },
    {
      "cell_type": "code",
      "source": [
        "transformer.get_feature_names_out()"
      ],
      "metadata": {
        "colab": {
          "base_uri": "https://localhost:8080/"
        },
        "id": "Nrji0fcqCKWj",
        "outputId": "2d5869fa-a73e-44c8-cb9d-6ac34af1b589"
      },
      "execution_count": null,
      "outputs": [
        {
          "output_type": "execute_result",
          "data": {
            "text/plain": [
              "array(['onehotencoder__marital status_ Divorced',\n",
              "       'onehotencoder__marital status_ Married-AF-spouse',\n",
              "       'onehotencoder__marital status_ Married-civ-spouse',\n",
              "       'onehotencoder__marital status_ Married-spouse-absent',\n",
              "       'onehotencoder__marital status_ Never-married',\n",
              "       'onehotencoder__marital status_ Separated',\n",
              "       'onehotencoder__marital status_ Widowed',\n",
              "       'onehotencoder__sex_ Female', 'onehotencoder__sex_ Male',\n",
              "       'remainder__age', 'remainder__edu num', 'remainder__capital-gain',\n",
              "       'remainder__capital-loss', 'remainder__hours-per-week'],\n",
              "      dtype=object)"
            ]
          },
          "metadata": {},
          "execution_count": 24
        }
      ]
    },
    {
      "cell_type": "code",
      "source": [
        "dtree2.feature_importances_"
      ],
      "metadata": {
        "colab": {
          "base_uri": "https://localhost:8080/"
        },
        "id": "95vj2G2ZK_YI",
        "outputId": "72789a34-3dc8-4c0b-f318-abd3272dd176"
      },
      "execution_count": null,
      "outputs": [
        {
          "output_type": "execute_result",
          "data": {
            "text/plain": [
              "array([1.29172835e-04, 0.00000000e+00, 4.24105507e-01, 0.00000000e+00,\n",
              "       0.00000000e+00, 0.00000000e+00, 0.00000000e+00, 2.60874408e-03,\n",
              "       6.17295144e-04, 5.19053202e-02, 2.34828667e-01, 2.00893017e-01,\n",
              "       4.47150984e-02, 4.01971775e-02])"
            ]
          },
          "metadata": {},
          "execution_count": 79
        }
      ]
    },
    {
      "cell_type": "markdown",
      "source": [
        "###Grid Search"
      ],
      "metadata": {
        "id": "Ay31vu3sHLtB"
      }
    },
    {
      "cell_type": "code",
      "source": [
        "from sklearn.model_selection import GridSearchCV"
      ],
      "metadata": {
        "id": "MrPceoM0Fyov"
      },
      "execution_count": null,
      "outputs": []
    },
    {
      "cell_type": "code",
      "source": [
        "param_grid = {'max_depth':[5,10],\n",
        "              'min_samples_split':[30,60],\n",
        "              'min_samples_leaf':[100,200]\n",
        "}\n",
        "param_grid"
      ],
      "metadata": {
        "colab": {
          "base_uri": "https://localhost:8080/"
        },
        "id": "x8z4ZcP8IVhE",
        "outputId": "6cda84d5-773e-4e3c-c8d5-711fd3af72be"
      },
      "execution_count": null,
      "outputs": [
        {
          "output_type": "execute_result",
          "data": {
            "text/plain": [
              "{'max_depth': [5, 10],\n",
              " 'min_samples_leaf': [100, 200],\n",
              " 'min_samples_split': [30, 60]}"
            ]
          },
          "metadata": {},
          "execution_count": 87
        }
      ]
    },
    {
      "cell_type": "code",
      "source": [
        "dtree_search = DecisionTreeClassifier()\n",
        "grid_search = GridSearchCV(dtree_search,\n",
        "                           param_grid,\n",
        "                           cv=5)"
      ],
      "metadata": {
        "id": "jqBQNG_3IEwd"
      },
      "execution_count": null,
      "outputs": []
    },
    {
      "cell_type": "code",
      "source": [
        "grid_search.fit(X_train_transformed,y_train)\n",
        "grid_search.best_params_,grid_search.best_score_"
      ],
      "metadata": {
        "colab": {
          "base_uri": "https://localhost:8080/"
        },
        "id": "Y7_cb7y8JGpx",
        "outputId": "02f2a4c1-cc7d-48cb-93b5-725b83e35255"
      },
      "execution_count": null,
      "outputs": [
        {
          "output_type": "execute_result",
          "data": {
            "text/plain": [
              "({'max_depth': 10, 'min_samples_leaf': 200, 'min_samples_split': 30},\n",
              " 0.8534865172566695)"
            ]
          },
          "metadata": {},
          "execution_count": 90
        }
      ]
    },
    {
      "cell_type": "markdown",
      "source": [
        "##Decision Tree Regressor"
      ],
      "metadata": {
        "id": "FsYsOhj6MaS9"
      }
    },
    {
      "cell_type": "markdown",
      "source": [
        "###Preparing and Split Dataset"
      ],
      "metadata": {
        "id": "4Y_di_rOOAJ6"
      }
    },
    {
      "cell_type": "code",
      "source": [
        "df3 = pd.read_csv('/content/drive/MyDrive/KUxDEPA-Data-Science-and-Machine-Learning-Training-Course/dataset/03-cities.csv',encoding='tis620')"
      ],
      "metadata": {
        "id": "bdUt5xjFMbIy"
      },
      "execution_count": null,
      "outputs": []
    },
    {
      "cell_type": "code",
      "source": [
        "X = df3[['latitude','longitude']]\n",
        "y = df3[['temperature']]"
      ],
      "metadata": {
        "id": "_eoJS_qoOZWI"
      },
      "execution_count": null,
      "outputs": []
    },
    {
      "cell_type": "code",
      "source": [
        "from sklearn.model_selection import train_test_split"
      ],
      "metadata": {
        "id": "qlhoBytiOR4K"
      },
      "execution_count": null,
      "outputs": []
    },
    {
      "cell_type": "code",
      "source": [
        "X_train, X_test, y_train, y_test = train_test_split(X,y)"
      ],
      "metadata": {
        "id": "ywzt579uOjMy"
      },
      "execution_count": null,
      "outputs": []
    },
    {
      "cell_type": "markdown",
      "source": [
        "###Fitting model"
      ],
      "metadata": {
        "id": "udTxdcXzPYd7"
      }
    },
    {
      "cell_type": "code",
      "source": [
        "from sklearn.tree import DecisionTreeRegressor"
      ],
      "metadata": {
        "id": "Y0QFJ37COpsG"
      },
      "execution_count": null,
      "outputs": []
    },
    {
      "cell_type": "code",
      "source": [
        "dt_reg = DecisionTreeRegressor()\n",
        "dt_reg.fit(X_train,y_train)"
      ],
      "metadata": {
        "colab": {
          "base_uri": "https://localhost:8080/"
        },
        "id": "mF-Av3yWO95G",
        "outputId": "d94a2dc2-ea4a-4dcc-a44d-3d7fef62b573"
      },
      "execution_count": null,
      "outputs": [
        {
          "output_type": "execute_result",
          "data": {
            "text/plain": [
              "DecisionTreeRegressor()"
            ]
          },
          "metadata": {},
          "execution_count": 103
        }
      ]
    },
    {
      "cell_type": "code",
      "source": [
        "dt_reg.score(X_test,y_test)"
      ],
      "metadata": {
        "colab": {
          "base_uri": "https://localhost:8080/"
        },
        "id": "F1vNIw-APF2C",
        "outputId": "57aa79bc-5486-43d7-fa24-a36958784a93"
      },
      "execution_count": null,
      "outputs": [
        {
          "output_type": "execute_result",
          "data": {
            "text/plain": [
              "0.5380030422785111"
            ]
          },
          "metadata": {},
          "execution_count": 104
        }
      ]
    },
    {
      "cell_type": "code",
      "source": [
        "dt_reg.score(X_train,y_train)"
      ],
      "metadata": {
        "colab": {
          "base_uri": "https://localhost:8080/"
        },
        "id": "2gaNoNZYPLPm",
        "outputId": "d678b1cf-ecf2-4501-a831-083014ddda56"
      },
      "execution_count": null,
      "outputs": [
        {
          "output_type": "execute_result",
          "data": {
            "text/plain": [
              "1.0"
            ]
          },
          "metadata": {},
          "execution_count": 105
        }
      ]
    }
  ]
}