{
  "nbformat": 4,
  "nbformat_minor": 0,
  "metadata": {
    "colab": {
      "name": "K-mean and DBSCAN Clustering Algorithms .ipynb",
      "provenance": []
    },
    "kernelspec": {
      "name": "python3",
      "display_name": "Python 3"
    },
    "language_info": {
      "name": "python"
    },
    "accelerator": "GPU"
  },
  "cells": [
    {
      "cell_type": "markdown",
      "source": [
        "### Import Library "
      ],
      "metadata": {
        "id": "EabS-i18Ga1e"
      }
    },
    {
      "cell_type": "code",
      "execution_count": 1,
      "metadata": {
        "id": "XUFc0aXtGFgK"
      },
      "outputs": [],
      "source": [
        "import pandas as pd\n",
        "import seaborn as sns\n",
        "import matplotlib.pyplot as plt"
      ]
    },
    {
      "cell_type": "markdown",
      "source": [
        "##Preparing Dataset"
      ],
      "metadata": {
        "id": "7uw7hnMTQz8n"
      }
    },
    {
      "cell_type": "code",
      "source": [
        "df = pd.read_csv('/content/drive/MyDrive/KUxDEPA-Data-Science-and-Machine-Learning-Training-Course/dataset/03-cities.csv',encoding='tis620')"
      ],
      "metadata": {
        "id": "jelfyxUHHEv5"
      },
      "execution_count": 3,
      "outputs": []
    },
    {
      "cell_type": "code",
      "source": [
        "#slice column\n",
        "df = df.iloc[:,:5]"
      ],
      "metadata": {
        "id": "kfwx3gFbHNjp"
      },
      "execution_count": 26,
      "outputs": []
    },
    {
      "cell_type": "code",
      "source": [
        "X = df[['latitude','longitude']]"
      ],
      "metadata": {
        "id": "7_IVWOI3Jae2"
      },
      "execution_count": 27,
      "outputs": []
    },
    {
      "cell_type": "code",
      "source": [
        "#plot data\n",
        "sns.relplot(data=df,x='longitude',y='latitude',height=6,aspect=1.2)"
      ],
      "metadata": {
        "colab": {
          "base_uri": "https://localhost:8080/",
          "height": 459
        },
        "id": "a0L5nBTaHckT",
        "outputId": "094f21e1-967e-493c-b886-c916b9479f6c"
      },
      "execution_count": 28,
      "outputs": [
        {
          "output_type": "execute_result",
          "data": {
            "text/plain": [
              "<seaborn.axisgrid.FacetGrid at 0x7f8b4beeb990>"
            ]
          },
          "metadata": {},
          "execution_count": 28
        },
        {
          "output_type": "display_data",
          "data": {
            "text/plain": [
              "<Figure size 518.4x432 with 1 Axes>"
            ],
            "image/png": "[encoded data removed]"
          },
          "metadata": {
            "needs_background": "light"
          }
        }
      ]
    },
    {
      "cell_type": "markdown",
      "source": [
        "##K-mean Clustering"
      ],
      "metadata": {
        "id": "EDt9uTqIIfvk"
      }
    },
    {
      "cell_type": "markdown",
      "source": [
        "### Import Kmeans"
      ],
      "metadata": {
        "id": "lTJE99lfLvvQ"
      }
    },
    {
      "cell_type": "code",
      "source": [
        "from sklearn.cluster import KMeans"
      ],
      "metadata": {
        "id": "f07AMjNbIOzx"
      },
      "execution_count": 29,
      "outputs": []
    },
    {
      "cell_type": "markdown",
      "source": [
        "### Create model"
      ],
      "metadata": {
        "id": "wwwtSqXrMOQu"
      }
    },
    {
      "cell_type": "code",
      "source": [
        "km_cluster = KMeans(8)"
      ],
      "metadata": {
        "id": "ms35wWpgIzNB"
      },
      "execution_count": 30,
      "outputs": []
    },
    {
      "cell_type": "markdown",
      "source": [
        "### Fit Model"
      ],
      "metadata": {
        "id": "uyi19BVeMez_"
      }
    },
    {
      "cell_type": "code",
      "source": [
        "km_cluster.fit(X)"
      ],
      "metadata": {
        "colab": {
          "base_uri": "https://localhost:8080/"
        },
        "id": "ftXIuEPkJxzw",
        "outputId": "e1eef780-6d99-47c7-ef75-e2f412b34489"
      },
      "execution_count": 31,
      "outputs": [
        {
          "output_type": "execute_result",
          "data": {
            "text/plain": [
              "KMeans()"
            ]
          },
          "metadata": {},
          "execution_count": 31
        }
      ]
    },
    {
      "cell_type": "markdown",
      "source": [
        "###Labels Result"
      ],
      "metadata": {
        "id": "lpDb79kdMk2t"
      }
    },
    {
      "cell_type": "code",
      "source": [
        "km_cluster.labels_"
      ],
      "metadata": {
        "colab": {
          "base_uri": "https://localhost:8080/"
        },
        "id": "8GzeH1J6KHEg",
        "outputId": "2a0c273a-8038-4d35-b197-74ec3e59fca9"
      },
      "execution_count": 32,
      "outputs": [
        {
          "output_type": "execute_result",
          "data": {
            "text/plain": [
              "array([3, 6, 4, 7, 1, 1, 3, 3, 5, 1, 6, 7, 2, 5, 2, 3, 0, 1, 0, 0, 1, 5,\n",
              "       3, 7, 6, 5, 3, 3, 3, 0, 3, 0, 1, 6, 6, 4, 5, 3, 1, 0, 6, 6, 1, 2,\n",
              "       5, 3, 6, 0, 5, 3, 2, 5, 2, 1, 2, 4, 5, 6, 6, 1, 5, 3, 0, 0, 0, 0,\n",
              "       2, 6, 5, 2, 0, 5, 2, 3, 6, 6, 6, 2, 2, 4, 3, 7, 7, 2, 6, 5, 3, 3,\n",
              "       6, 7, 3, 3, 6, 4, 1, 5, 3, 3, 5, 3, 4, 7, 0, 1, 3, 3, 6, 2, 2, 7,\n",
              "       3, 0, 7, 0, 0, 0, 4, 4, 5, 4, 0, 0, 6, 3, 1, 5, 1, 5, 0, 3, 1, 3,\n",
              "       7, 7, 3, 2, 1, 3, 0, 5, 3, 3, 0, 1, 3, 1, 3, 2, 5, 3, 7, 0, 4, 5,\n",
              "       4, 1, 5, 2, 1, 5, 5, 0, 2, 2, 5, 5, 5, 3, 4, 5, 0, 5, 3, 2, 1, 5,\n",
              "       7, 1, 5, 2, 7, 7, 2, 5, 2, 3, 4, 0, 6, 5, 4, 4, 7, 4, 2, 1, 7, 5,\n",
              "       2, 4, 4, 4, 1, 5, 1, 0, 0, 5, 7, 1, 0, 7, 3], dtype=int32)"
            ]
          },
          "metadata": {},
          "execution_count": 32
        }
      ]
    },
    {
      "cell_type": "markdown",
      "source": [
        "### Plot Labels"
      ],
      "metadata": {
        "id": "M0-sxkF-MoPP"
      }
    },
    {
      "cell_type": "code",
      "source": [
        "kmc_s = pd.Series(km_cluster.labels_, name='kmean', dtype='category')"
      ],
      "metadata": {
        "id": "NlDy1adFJ4vG"
      },
      "execution_count": 33,
      "outputs": []
    },
    {
      "cell_type": "code",
      "source": [
        "df['kmean'] = kmc_s"
      ],
      "metadata": {
        "id": "h1iUPWn_Kbl6"
      },
      "execution_count": 34,
      "outputs": []
    },
    {
      "cell_type": "code",
      "source": [
        "df"
      ],
      "metadata": {
        "colab": {
          "base_uri": "https://localhost:8080/",
          "height": 424
        },
        "id": "s7jJGZvgKgki",
        "outputId": "f712283a-92be-442d-9410-13f6a95bf63f"
      },
      "execution_count": 35,
      "outputs": [
        {
          "output_type": "execute_result",
          "data": {
            "text/plain": [
              "            city         country  latitude  longitude  temperature kmean\n",
              "0        Aalborg         Denmark     57.03       9.92         7.52     3\n",
              "1       Aberdeen  United Kingdom     57.17      -2.08         8.10     6\n",
              "2         Abisko          Sweden     63.35      18.83         0.20     4\n",
              "3          Adana          Turkey     36.99      35.32        18.67     7\n",
              "4       Albacete           Spain     39.00      -1.87        12.62     1\n",
              "..           ...             ...       ...        ...          ...   ...\n",
              "208  Yevpatoriya         Ukraine     45.20      33.36        10.02     7\n",
              "209     Zaragoza           Spain     41.65      -0.89        14.17     1\n",
              "210     Zhytomyr         Ukraine     50.25      28.66         6.67     0\n",
              "211    Zonguldak          Turkey     41.43      31.78        10.64     7\n",
              "212       Zurich     Switzerland     47.38       8.56         6.68     3\n",
              "\n",
              "[213 rows x 6 columns]"
            ],
            "text/html": [
              "\n",
              "  <div id=\"df-68e79571-fa9f-4b60-8762-4bdedddac60f\">\n",
              "    <div class=\"colab-df-container\">\n",
              "      <div>\n",
              "<style scoped>\n",
              "    .dataframe tbody tr th:only-of-type {\n",
              "        vertical-align: middle;\n",
              "    }\n",
              "\n",
              "    .dataframe tbody tr th {\n",
              "        vertical-align: top;\n",
              "    }\n",
              "\n",
              "    .dataframe thead th {\n",
              "        text-align: right;\n",
              "    }\n",
              "</style>\n",
              "<table border=\"1\" class=\"dataframe\">\n",
              "  <thead>\n",
              "    <tr style=\"text-align: right;\">\n",
              "      <th></th>\n",
              "      <th>city</th>\n",
              "      <th>country</th>\n",
              "      <th>latitude</th>\n",
              "      <th>longitude</th>\n",
              "      <th>temperature</th>\n",
              "      <th>kmean</th>\n",
              "    </tr>\n",
              "  </thead>\n",
              "  <tbody>\n",
              "    <tr>\n",
              "      <th>0</th>\n",
              "      <td>Aalborg</td>\n",
              "      <td>Denmark</td>\n",
              "      <td>57.03</td>\n",
              "      <td>9.92</td>\n",
              "      <td>7.52</td>\n",
              "      <td>3</td>\n",
              "    </tr>\n",
              "    <tr>\n",
              "      <th>1</th>\n",
              "      <td>Aberdeen</td>\n",
              "      <td>United Kingdom</td>\n",
              "      <td>57.17</td>\n",
              "      <td>-2.08</td>\n",
              "      <td>8.10</td>\n",
              "      <td>6</td>\n",
              "    </tr>\n",
              "    <tr>\n",
              "      <th>2</th>\n",
              "      <td>Abisko</td>\n",
              "      <td>Sweden</td>\n",
              "      <td>63.35</td>\n",
              "      <td>18.83</td>\n",
              "      <td>0.20</td>\n",
              "      <td>4</td>\n",
              "    </tr>\n",
              "    <tr>\n",
              "      <th>3</th>\n",
              "      <td>Adana</td>\n",
              "      <td>Turkey</td>\n",
              "      <td>36.99</td>\n",
              "      <td>35.32</td>\n",
              "      <td>18.67</td>\n",
              "      <td>7</td>\n",
              "    </tr>\n",
              "    <tr>\n",
              "      <th>4</th>\n",
              "      <td>Albacete</td>\n",
              "      <td>Spain</td>\n",
              "      <td>39.00</td>\n",
              "      <td>-1.87</td>\n",
              "      <td>12.62</td>\n",
              "      <td>1</td>\n",
              "    </tr>\n",
              "    <tr>\n",
              "      <th>...</th>\n",
              "      <td>...</td>\n",
              "      <td>...</td>\n",
              "      <td>...</td>\n",
              "      <td>...</td>\n",
              "      <td>...</td>\n",
              "      <td>...</td>\n",
              "    </tr>\n",
              "    <tr>\n",
              "      <th>208</th>\n",
              "      <td>Yevpatoriya</td>\n",
              "      <td>Ukraine</td>\n",
              "      <td>45.20</td>\n",
              "      <td>33.36</td>\n",
              "      <td>10.02</td>\n",
              "      <td>7</td>\n",
              "    </tr>\n",
              "    <tr>\n",
              "      <th>209</th>\n",
              "      <td>Zaragoza</td>\n",
              "      <td>Spain</td>\n",
              "      <td>41.65</td>\n",
              "      <td>-0.89</td>\n",
              "      <td>14.17</td>\n",
              "      <td>1</td>\n",
              "    </tr>\n",
              "    <tr>\n",
              "      <th>210</th>\n",
              "      <td>Zhytomyr</td>\n",
              "      <td>Ukraine</td>\n",
              "      <td>50.25</td>\n",
              "      <td>28.66</td>\n",
              "      <td>6.67</td>\n",
              "      <td>0</td>\n",
              "    </tr>\n",
              "    <tr>\n",
              "      <th>211</th>\n",
              "      <td>Zonguldak</td>\n",
              "      <td>Turkey</td>\n",
              "      <td>41.43</td>\n",
              "      <td>31.78</td>\n",
              "      <td>10.64</td>\n",
              "      <td>7</td>\n",
              "    </tr>\n",
              "    <tr>\n",
              "      <th>212</th>\n",
              "      <td>Zurich</td>\n",
              "      <td>Switzerland</td>\n",
              "      <td>47.38</td>\n",
              "      <td>8.56</td>\n",
              "      <td>6.68</td>\n",
              "      <td>3</td>\n",
              "    </tr>\n",
              "  </tbody>\n",
              "</table>\n",
              "<p>213 rows × 6 columns</p>\n",
              "</div>\n",
              "      <button class=\"colab-df-convert\" onclick=\"convertToInteractive('df-68e79571-fa9f-4b60-8762-4bdedddac60f')\"\n",
              "              title=\"Convert this dataframe to an interactive table.\"\n",
              "              style=\"display:none;\">\n",
              "        \n",
              "  <svg xmlns=\"http://www.w3.org/2000/svg\" height=\"24px\"viewBox=\"0 0 24 24\"\n",
              "       width=\"24px\">\n",
              "    <path d=\"M0 0h24v24H0V0z\" fill=\"none\"/>\n",
              "    <path d=\"M18.56 5.44l.94 2.06.94-2.06 2.06-.94-2.06-.94-.94-2.06-.94 2.06-2.06.94zm-11 1L8.5 8.5l.94-2.06 2.06-.94-2.06-.94L8.5 2.5l-.94 2.06-2.06.94zm10 10l.94 2.06.94-2.06 2.06-.94-2.06-.94-.94-2.06-.94 2.06-2.06.94z\"/><path d=\"M17.41 7.96l-1.37-1.37c-.4-.4-.92-.59-1.43-.59-.52 0-1.04.2-1.43.59L10.3 9.45l-7.72 7.72c-.78.78-.78 2.05 0 2.83L4 21.41c.39.39.9.59 1.41.59.51 0 1.02-.2 1.41-.59l7.78-7.78 2.81-2.81c.8-.78.8-2.07 0-2.86zM5.41 20L4 18.59l7.72-7.72 1.47 1.35L5.41 20z\"/>\n",
              "  </svg>\n",
              "      </button>\n",
              "      \n",
              "  <style>\n",
              "    .colab-df-container {\n",
              "      display:flex;\n",
              "      flex-wrap:wrap;\n",
              "      gap: 12px;\n",
              "    }\n",
              "\n",
              "    .colab-df-convert {\n",
              "      background-color: #E8F0FE;\n",
              "      border: none;\n",
              "      border-radius: 50%;\n",
              "      cursor: pointer;\n",
              "      display: none;\n",
              "      fill: #1967D2;\n",
              "      height: 32px;\n",
              "      padding: 0 0 0 0;\n",
              "      width: 32px;\n",
              "    }\n",
              "\n",
              "    .colab-df-convert:hover {\n",
              "      background-color: #E2EBFA;\n",
              "      box-shadow: 0px 1px 2px rgba(60, 64, 67, 0.3), 0px 1px 3px 1px rgba(60, 64, 67, 0.15);\n",
              "      fill: #174EA6;\n",
              "    }\n",
              "\n",
              "    [theme=dark] .colab-df-convert {\n",
              "      background-color: #3B4455;\n",
              "      fill: #D2E3FC;\n",
              "    }\n",
              "\n",
              "    [theme=dark] .colab-df-convert:hover {\n",
              "      background-color: #434B5C;\n",
              "      box-shadow: 0px 1px 3px 1px rgba(0, 0, 0, 0.15);\n",
              "      filter: drop-shadow(0px 1px 2px rgba(0, 0, 0, 0.3));\n",
              "      fill: #FFFFFF;\n",
              "    }\n",
              "  </style>\n",
              "\n",
              "      <script>\n",
              "        const buttonEl =\n",
              "          document.querySelector('#df-68e79571-fa9f-4b60-8762-4bdedddac60f button.colab-df-convert');\n",
              "        buttonEl.style.display =\n",
              "          google.colab.kernel.accessAllowed ? 'block' : 'none';\n",
              "\n",
              "        async function convertToInteractive(key) {\n",
              "          const element = document.querySelector('#df-68e79571-fa9f-4b60-8762-4bdedddac60f');\n",
              "          const dataTable =\n",
              "            await google.colab.kernel.invokeFunction('convertToInteractive',\n",
              "                                                     [key], {});\n",
              "          if (!dataTable) return;\n",
              "\n",
              "          const docLinkHtml = 'Like what you see? Visit the ' +\n",
              "            '<a target=\"_blank\" href=https://colab.research.google.com/notebooks/data_table.ipynb>data table notebook</a>'\n",
              "            + ' to learn more about interactive tables.';\n",
              "          element.innerHTML = '';\n",
              "          dataTable['output_type'] = 'display_data';\n",
              "          await google.colab.output.renderOutput(dataTable, element);\n",
              "          const docLink = document.createElement('div');\n",
              "          docLink.innerHTML = docLinkHtml;\n",
              "          element.appendChild(docLink);\n",
              "        }\n",
              "      </script>\n",
              "    </div>\n",
              "  </div>\n",
              "  "
            ]
          },
          "metadata": {},
          "execution_count": 35
        }
      ]
    },
    {
      "cell_type": "code",
      "source": [
        "sns.relplot(data=df,x='longitude',y='latitude',hue='kmean',height=6,aspect=1.2)"
      ],
      "metadata": {
        "colab": {
          "base_uri": "https://localhost:8080/",
          "height": 459
        },
        "id": "DnuFEqRMKhI9",
        "outputId": "4f0e81cd-8ac5-42dd-d51b-7d45009b17b2"
      },
      "execution_count": 36,
      "outputs": [
        {
          "output_type": "execute_result",
          "data": {
            "text/plain": [
              "<seaborn.axisgrid.FacetGrid at 0x7f8b4dca95d0>"
            ]
          },
          "metadata": {},
          "execution_count": 36
        },
        {
          "output_type": "display_data",
          "data": {
            "text/plain": [
              "<Figure size 560.775x432 with 1 Axes>"
            ],
            "image/png": "[encoded data removed]"
          },
          "metadata": {
            "needs_background": "light"
          }
        }
      ]
    },
    {
      "cell_type": "markdown",
      "source": [
        "###Finding Group Centroid"
      ],
      "metadata": {
        "id": "j5AjgV6ZQW_k"
      }
    },
    {
      "cell_type": "code",
      "source": [
        "km_cluster.cluster_centers_"
      ],
      "metadata": {
        "colab": {
          "base_uri": "https://localhost:8080/"
        },
        "id": "FpGdyjC6Lcq9",
        "outputId": "b0689f69-cf80-49d0-b7df-8977751ca013"
      },
      "execution_count": 37,
      "outputs": [
        {
          "output_type": "execute_result",
          "data": {
            "text/plain": [
              "array([[50.7462069 , 27.53034483],\n",
              "       [40.85923077, -2.78538462],\n",
              "       [41.388     , 25.6692    ],\n",
              "       [50.13384615,  8.05435897],\n",
              "       [59.88789474, 19.42157895],\n",
              "       [45.40583333, 16.34138889],\n",
              "       [52.722     , -3.39      ],\n",
              "       [40.35052632, 37.02210526]])"
            ]
          },
          "metadata": {},
          "execution_count": 37
        }
      ]
    },
    {
      "cell_type": "code",
      "source": [
        "center_df = pd.DataFrame(km_cluster.cluster_centers_,columns=['latitude', 'longitude'])\n",
        "center_df"
      ],
      "metadata": {
        "colab": {
          "base_uri": "https://localhost:8080/",
          "height": 300
        },
        "id": "rGhDFkPdLj3p",
        "outputId": "84e88eac-ac79-4a60-a646-ec6b3a6c8f05"
      },
      "execution_count": 38,
      "outputs": [
        {
          "output_type": "execute_result",
          "data": {
            "text/plain": [
              "    latitude  longitude\n",
              "0  50.746207  27.530345\n",
              "1  40.859231  -2.785385\n",
              "2  41.388000  25.669200\n",
              "3  50.133846   8.054359\n",
              "4  59.887895  19.421579\n",
              "5  45.405833  16.341389\n",
              "6  52.722000  -3.390000\n",
              "7  40.350526  37.022105"
            ],
            "text/html": [
              "\n",
              "  <div id=\"df-68bc0ed3-87ac-4868-ab58-6ae28f15793c\">\n",
              "    <div class=\"colab-df-container\">\n",
              "      <div>\n",
              "<style scoped>\n",
              "    .dataframe tbody tr th:only-of-type {\n",
              "        vertical-align: middle;\n",
              "    }\n",
              "\n",
              "    .dataframe tbody tr th {\n",
              "        vertical-align: top;\n",
              "    }\n",
              "\n",
              "    .dataframe thead th {\n",
              "        text-align: right;\n",
              "    }\n",
              "</style>\n",
              "<table border=\"1\" class=\"dataframe\">\n",
              "  <thead>\n",
              "    <tr style=\"text-align: right;\">\n",
              "      <th></th>\n",
              "      <th>latitude</th>\n",
              "      <th>longitude</th>\n",
              "    </tr>\n",
              "  </thead>\n",
              "  <tbody>\n",
              "    <tr>\n",
              "      <th>0</th>\n",
              "      <td>50.746207</td>\n",
              "      <td>27.530345</td>\n",
              "    </tr>\n",
              "    <tr>\n",
              "      <th>1</th>\n",
              "      <td>40.859231</td>\n",
              "      <td>-2.785385</td>\n",
              "    </tr>\n",
              "    <tr>\n",
              "      <th>2</th>\n",
              "      <td>41.388000</td>\n",
              "      <td>25.669200</td>\n",
              "    </tr>\n",
              "    <tr>\n",
              "      <th>3</th>\n",
              "      <td>50.133846</td>\n",
              "      <td>8.054359</td>\n",
              "    </tr>\n",
              "    <tr>\n",
              "      <th>4</th>\n",
              "      <td>59.887895</td>\n",
              "      <td>19.421579</td>\n",
              "    </tr>\n",
              "    <tr>\n",
              "      <th>5</th>\n",
              "      <td>45.405833</td>\n",
              "      <td>16.341389</td>\n",
              "    </tr>\n",
              "    <tr>\n",
              "      <th>6</th>\n",
              "      <td>52.722000</td>\n",
              "      <td>-3.390000</td>\n",
              "    </tr>\n",
              "    <tr>\n",
              "      <th>7</th>\n",
              "      <td>40.350526</td>\n",
              "      <td>37.022105</td>\n",
              "    </tr>\n",
              "  </tbody>\n",
              "</table>\n",
              "</div>\n",
              "      <button class=\"colab-df-convert\" onclick=\"convertToInteractive('df-68bc0ed3-87ac-4868-ab58-6ae28f15793c')\"\n",
              "              title=\"Convert this dataframe to an interactive table.\"\n",
              "              style=\"display:none;\">\n",
              "        \n",
              "  <svg xmlns=\"http://www.w3.org/2000/svg\" height=\"24px\"viewBox=\"0 0 24 24\"\n",
              "       width=\"24px\">\n",
              "    <path d=\"M0 0h24v24H0V0z\" fill=\"none\"/>\n",
              "    <path d=\"M18.56 5.44l.94 2.06.94-2.06 2.06-.94-2.06-.94-.94-2.06-.94 2.06-2.06.94zm-11 1L8.5 8.5l.94-2.06 2.06-.94-2.06-.94L8.5 2.5l-.94 2.06-2.06.94zm10 10l.94 2.06.94-2.06 2.06-.94-2.06-.94-.94-2.06-.94 2.06-2.06.94z\"/><path d=\"M17.41 7.96l-1.37-1.37c-.4-.4-.92-.59-1.43-.59-.52 0-1.04.2-1.43.59L10.3 9.45l-7.72 7.72c-.78.78-.78 2.05 0 2.83L4 21.41c.39.39.9.59 1.41.59.51 0 1.02-.2 1.41-.59l7.78-7.78 2.81-2.81c.8-.78.8-2.07 0-2.86zM5.41 20L4 18.59l7.72-7.72 1.47 1.35L5.41 20z\"/>\n",
              "  </svg>\n",
              "      </button>\n",
              "      \n",
              "  <style>\n",
              "    .colab-df-container {\n",
              "      display:flex;\n",
              "      flex-wrap:wrap;\n",
              "      gap: 12px;\n",
              "    }\n",
              "\n",
              "    .colab-df-convert {\n",
              "      background-color: #E8F0FE;\n",
              "      border: none;\n",
              "      border-radius: 50%;\n",
              "      cursor: pointer;\n",
              "      display: none;\n",
              "      fill: #1967D2;\n",
              "      height: 32px;\n",
              "      padding: 0 0 0 0;\n",
              "      width: 32px;\n",
              "    }\n",
              "\n",
              "    .colab-df-convert:hover {\n",
              "      background-color: #E2EBFA;\n",
              "      box-shadow: 0px 1px 2px rgba(60, 64, 67, 0.3), 0px 1px 3px 1px rgba(60, 64, 67, 0.15);\n",
              "      fill: #174EA6;\n",
              "    }\n",
              "\n",
              "    [theme=dark] .colab-df-convert {\n",
              "      background-color: #3B4455;\n",
              "      fill: #D2E3FC;\n",
              "    }\n",
              "\n",
              "    [theme=dark] .colab-df-convert:hover {\n",
              "      background-color: #434B5C;\n",
              "      box-shadow: 0px 1px 3px 1px rgba(0, 0, 0, 0.15);\n",
              "      filter: drop-shadow(0px 1px 2px rgba(0, 0, 0, 0.3));\n",
              "      fill: #FFFFFF;\n",
              "    }\n",
              "  </style>\n",
              "\n",
              "      <script>\n",
              "        const buttonEl =\n",
              "          document.querySelector('#df-68bc0ed3-87ac-4868-ab58-6ae28f15793c button.colab-df-convert');\n",
              "        buttonEl.style.display =\n",
              "          google.colab.kernel.accessAllowed ? 'block' : 'none';\n",
              "\n",
              "        async function convertToInteractive(key) {\n",
              "          const element = document.querySelector('#df-68bc0ed3-87ac-4868-ab58-6ae28f15793c');\n",
              "          const dataTable =\n",
              "            await google.colab.kernel.invokeFunction('convertToInteractive',\n",
              "                                                     [key], {});\n",
              "          if (!dataTable) return;\n",
              "\n",
              "          const docLinkHtml = 'Like what you see? Visit the ' +\n",
              "            '<a target=\"_blank\" href=https://colab.research.google.com/notebooks/data_table.ipynb>data table notebook</a>'\n",
              "            + ' to learn more about interactive tables.';\n",
              "          element.innerHTML = '';\n",
              "          dataTable['output_type'] = 'display_data';\n",
              "          await google.colab.output.renderOutput(dataTable, element);\n",
              "          const docLink = document.createElement('div');\n",
              "          docLink.innerHTML = docLinkHtml;\n",
              "          element.appendChild(docLink);\n",
              "        }\n",
              "      </script>\n",
              "    </div>\n",
              "  </div>\n",
              "  "
            ]
          },
          "metadata": {},
          "execution_count": 38
        }
      ]
    },
    {
      "cell_type": "code",
      "source": [
        "center_df.columns = ['lat','long']"
      ],
      "metadata": {
        "id": "ZuHYczxDMGyy"
      },
      "execution_count": 39,
      "outputs": []
    },
    {
      "cell_type": "code",
      "source": [
        "sns.relplot(data=df,x='longitude',y='latitude',hue='kmean',height=6,aspect=1.2)\n",
        "plt.scatter(x=center_df['long'],y=center_df['lat'],marker='*',s=100,color='black')"
      ],
      "metadata": {
        "colab": {
          "base_uri": "https://localhost:8080/",
          "height": 459
        },
        "id": "RHyIf-h3M2Po",
        "outputId": "544f6caf-74ff-42be-83d0-afb49b0d5915"
      },
      "execution_count": 41,
      "outputs": [
        {
          "output_type": "execute_result",
          "data": {
            "text/plain": [
              "<matplotlib.collections.PathCollection at 0x7f8b4b4abb10>"
            ]
          },
          "metadata": {},
          "execution_count": 41
        },
        {
          "output_type": "display_data",
          "data": {
            "text/plain": [
              "<Figure size 560.775x432 with 1 Axes>"
            ],
            "image/png": "[encoded data removed]"
          },
          "metadata": {
            "needs_background": "light"
          }
        }
      ]
    },
    {
      "cell_type": "markdown",
      "source": [
        "##K-mean Performance Evaluation"
      ],
      "metadata": {
        "id": "L9A3C4ZwUU0V"
      }
    },
    {
      "cell_type": "markdown",
      "source": [
        "###Finding best Inertia"
      ],
      "metadata": {
        "id": "A7vzzGlFVZZs"
      }
    },
    {
      "cell_type": "code",
      "source": [
        "km_cluster.inertia_"
      ],
      "metadata": {
        "colab": {
          "base_uri": "https://localhost:8080/"
        },
        "id": "Cv5OOxYwVMeZ",
        "outputId": "9ccac7db-e9a3-431d-8374-b52f3d144751"
      },
      "execution_count": 42,
      "outputs": [
        {
          "output_type": "execute_result",
          "data": {
            "text/plain": [
              "4672.321480633781"
            ]
          },
          "metadata": {},
          "execution_count": 42
        }
      ]
    },
    {
      "cell_type": "code",
      "source": [
        "km_inertia = KMeans(n_clusters=8,n_init=1000)"
      ],
      "metadata": {
        "id": "tflSjBP7UaVQ"
      },
      "execution_count": 47,
      "outputs": []
    },
    {
      "cell_type": "code",
      "source": [
        "km_inertia.fit(X)"
      ],
      "metadata": {
        "colab": {
          "base_uri": "https://localhost:8080/"
        },
        "id": "wDqj_uPoVoYC",
        "outputId": "6f2b03ac-b9eb-4fbf-ac43-d9ce2986f6e4"
      },
      "execution_count": 48,
      "outputs": [
        {
          "output_type": "execute_result",
          "data": {
            "text/plain": [
              "KMeans(n_init=1000)"
            ]
          },
          "metadata": {},
          "execution_count": 48
        }
      ]
    },
    {
      "cell_type": "code",
      "source": [
        "km_inertia.inertia_"
      ],
      "metadata": {
        "colab": {
          "base_uri": "https://localhost:8080/"
        },
        "id": "jjySol55VslG",
        "outputId": "81cd8ebe-0772-4e24-f5e6-67c4ee7c53e4"
      },
      "execution_count": 49,
      "outputs": [
        {
          "output_type": "execute_result",
          "data": {
            "text/plain": [
              "4666.063630315226"
            ]
          },
          "metadata": {},
          "execution_count": 49
        }
      ]
    },
    {
      "cell_type": "markdown",
      "source": [
        "###Finding best value of K"
      ],
      "metadata": {
        "id": "OTUVFWeyWe0V"
      }
    },
    {
      "cell_type": "code",
      "source": [
        "results = []\n",
        "for k in range(2,12) : \n",
        "  km = KMeans(k,n_init=100)\n",
        "  km.fit(X)\n",
        "  results.append((k,km.inertia_))"
      ],
      "metadata": {
        "id": "MgHOMNjNVyUf"
      },
      "execution_count": 50,
      "outputs": []
    },
    {
      "cell_type": "code",
      "source": [
        "results_df = pd.DataFrame(results,columns=['k','inertia'])\n",
        "results_df"
      ],
      "metadata": {
        "colab": {
          "base_uri": "https://localhost:8080/",
          "height": 363
        },
        "id": "ns1mBT9UXnu_",
        "outputId": "4c089a2e-3e3d-4df5-a864-dfc4d333a4f0"
      },
      "execution_count": 53,
      "outputs": [
        {
          "output_type": "execute_result",
          "data": {
            "text/plain": [
              "    k       inertia\n",
              "0   2  19930.716255\n",
              "1   3  13444.301258\n",
              "2   4  10253.710150\n",
              "3   5   8201.426890\n",
              "4   6   6604.002814\n",
              "5   7   5412.175552\n",
              "6   8   4671.177251\n",
              "7   9   4007.328305\n",
              "8  10   3460.324055\n",
              "9  11   3091.257635"
            ],
            "text/html": [
              "\n",
              "  <div id=\"df-7f2b7ff4-7ad5-4aee-93c2-0c078519c37f\">\n",
              "    <div class=\"colab-df-container\">\n",
              "      <div>\n",
              "<style scoped>\n",
              "    .dataframe tbody tr th:only-of-type {\n",
              "        vertical-align: middle;\n",
              "    }\n",
              "\n",
              "    .dataframe tbody tr th {\n",
              "        vertical-align: top;\n",
              "    }\n",
              "\n",
              "    .dataframe thead th {\n",
              "        text-align: right;\n",
              "    }\n",
              "</style>\n",
              "<table border=\"1\" class=\"dataframe\">\n",
              "  <thead>\n",
              "    <tr style=\"text-align: right;\">\n",
              "      <th></th>\n",
              "      <th>k</th>\n",
              "      <th>inertia</th>\n",
              "    </tr>\n",
              "  </thead>\n",
              "  <tbody>\n",
              "    <tr>\n",
              "      <th>0</th>\n",
              "      <td>2</td>\n",
              "      <td>19930.716255</td>\n",
              "    </tr>\n",
              "    <tr>\n",
              "      <th>1</th>\n",
              "      <td>3</td>\n",
              "      <td>13444.301258</td>\n",
              "    </tr>\n",
              "    <tr>\n",
              "      <th>2</th>\n",
              "      <td>4</td>\n",
              "      <td>10253.710150</td>\n",
              "    </tr>\n",
              "    <tr>\n",
              "      <th>3</th>\n",
              "      <td>5</td>\n",
              "      <td>8201.426890</td>\n",
              "    </tr>\n",
              "    <tr>\n",
              "      <th>4</th>\n",
              "      <td>6</td>\n",
              "      <td>6604.002814</td>\n",
              "    </tr>\n",
              "    <tr>\n",
              "      <th>5</th>\n",
              "      <td>7</td>\n",
              "      <td>5412.175552</td>\n",
              "    </tr>\n",
              "    <tr>\n",
              "      <th>6</th>\n",
              "      <td>8</td>\n",
              "      <td>4671.177251</td>\n",
              "    </tr>\n",
              "    <tr>\n",
              "      <th>7</th>\n",
              "      <td>9</td>\n",
              "      <td>4007.328305</td>\n",
              "    </tr>\n",
              "    <tr>\n",
              "      <th>8</th>\n",
              "      <td>10</td>\n",
              "      <td>3460.324055</td>\n",
              "    </tr>\n",
              "    <tr>\n",
              "      <th>9</th>\n",
              "      <td>11</td>\n",
              "      <td>3091.257635</td>\n",
              "    </tr>\n",
              "  </tbody>\n",
              "</table>\n",
              "</div>\n",
              "      <button class=\"colab-df-convert\" onclick=\"convertToInteractive('df-7f2b7ff4-7ad5-4aee-93c2-0c078519c37f')\"\n",
              "              title=\"Convert this dataframe to an interactive table.\"\n",
              "              style=\"display:none;\">\n",
              "        \n",
              "  <svg xmlns=\"http://www.w3.org/2000/svg\" height=\"24px\"viewBox=\"0 0 24 24\"\n",
              "       width=\"24px\">\n",
              "    <path d=\"M0 0h24v24H0V0z\" fill=\"none\"/>\n",
              "    <path d=\"M18.56 5.44l.94 2.06.94-2.06 2.06-.94-2.06-.94-.94-2.06-.94 2.06-2.06.94zm-11 1L8.5 8.5l.94-2.06 2.06-.94-2.06-.94L8.5 2.5l-.94 2.06-2.06.94zm10 10l.94 2.06.94-2.06 2.06-.94-2.06-.94-.94-2.06-.94 2.06-2.06.94z\"/><path d=\"M17.41 7.96l-1.37-1.37c-.4-.4-.92-.59-1.43-.59-.52 0-1.04.2-1.43.59L10.3 9.45l-7.72 7.72c-.78.78-.78 2.05 0 2.83L4 21.41c.39.39.9.59 1.41.59.51 0 1.02-.2 1.41-.59l7.78-7.78 2.81-2.81c.8-.78.8-2.07 0-2.86zM5.41 20L4 18.59l7.72-7.72 1.47 1.35L5.41 20z\"/>\n",
              "  </svg>\n",
              "      </button>\n",
              "      \n",
              "  <style>\n",
              "    .colab-df-container {\n",
              "      display:flex;\n",
              "      flex-wrap:wrap;\n",
              "      gap: 12px;\n",
              "    }\n",
              "\n",
              "    .colab-df-convert {\n",
              "      background-color: #E8F0FE;\n",
              "      border: none;\n",
              "      border-radius: 50%;\n",
              "      cursor: pointer;\n",
              "      display: none;\n",
              "      fill: #1967D2;\n",
              "      height: 32px;\n",
              "      padding: 0 0 0 0;\n",
              "      width: 32px;\n",
              "    }\n",
              "\n",
              "    .colab-df-convert:hover {\n",
              "      background-color: #E2EBFA;\n",
              "      box-shadow: 0px 1px 2px rgba(60, 64, 67, 0.3), 0px 1px 3px 1px rgba(60, 64, 67, 0.15);\n",
              "      fill: #174EA6;\n",
              "    }\n",
              "\n",
              "    [theme=dark] .colab-df-convert {\n",
              "      background-color: #3B4455;\n",
              "      fill: #D2E3FC;\n",
              "    }\n",
              "\n",
              "    [theme=dark] .colab-df-convert:hover {\n",
              "      background-color: #434B5C;\n",
              "      box-shadow: 0px 1px 3px 1px rgba(0, 0, 0, 0.15);\n",
              "      filter: drop-shadow(0px 1px 2px rgba(0, 0, 0, 0.3));\n",
              "      fill: #FFFFFF;\n",
              "    }\n",
              "  </style>\n",
              "\n",
              "      <script>\n",
              "        const buttonEl =\n",
              "          document.querySelector('#df-7f2b7ff4-7ad5-4aee-93c2-0c078519c37f button.colab-df-convert');\n",
              "        buttonEl.style.display =\n",
              "          google.colab.kernel.accessAllowed ? 'block' : 'none';\n",
              "\n",
              "        async function convertToInteractive(key) {\n",
              "          const element = document.querySelector('#df-7f2b7ff4-7ad5-4aee-93c2-0c078519c37f');\n",
              "          const dataTable =\n",
              "            await google.colab.kernel.invokeFunction('convertToInteractive',\n",
              "                                                     [key], {});\n",
              "          if (!dataTable) return;\n",
              "\n",
              "          const docLinkHtml = 'Like what you see? Visit the ' +\n",
              "            '<a target=\"_blank\" href=https://colab.research.google.com/notebooks/data_table.ipynb>data table notebook</a>'\n",
              "            + ' to learn more about interactive tables.';\n",
              "          element.innerHTML = '';\n",
              "          dataTable['output_type'] = 'display_data';\n",
              "          await google.colab.output.renderOutput(dataTable, element);\n",
              "          const docLink = document.createElement('div');\n",
              "          docLink.innerHTML = docLinkHtml;\n",
              "          element.appendChild(docLink);\n",
              "        }\n",
              "      </script>\n",
              "    </div>\n",
              "  </div>\n",
              "  "
            ]
          },
          "metadata": {},
          "execution_count": 53
        }
      ]
    },
    {
      "cell_type": "code",
      "source": [
        "sns.relplot(data=results_df,x='k',y='inertia',kind='line')"
      ],
      "metadata": {
        "colab": {
          "base_uri": "https://localhost:8080/",
          "height": 387
        },
        "id": "79QnrMtbXp_r",
        "outputId": "9fe156f5-8f0a-4df0-bcb1-6e0fc225211a"
      },
      "execution_count": 55,
      "outputs": [
        {
          "output_type": "execute_result",
          "data": {
            "text/plain": [
              "<seaborn.axisgrid.FacetGrid at 0x7f8b4b16ce90>"
            ]
          },
          "metadata": {},
          "execution_count": 55
        },
        {
          "output_type": "display_data",
          "data": {
            "text/plain": [
              "<Figure size 360x360 with 1 Axes>"
            ],
            "image/png": "[encoded data removed]"
          },
          "metadata": {
            "needs_background": "light"
          }
        }
      ]
    },
    {
      "cell_type": "markdown",
      "source": [
        "###Silhouette coefficient"
      ],
      "metadata": {
        "id": "plrGo8ZtZCtS"
      }
    },
    {
      "cell_type": "code",
      "source": [
        "from sklearn.metrics import silhouette_score"
      ],
      "metadata": {
        "id": "uFqamQQyYYBW"
      },
      "execution_count": 56,
      "outputs": []
    },
    {
      "cell_type": "code",
      "source": [
        "results = []\n",
        "for k in range(2,12) : \n",
        "  km = KMeans(k,n_init=100)\n",
        "  km.fit(X)\n",
        "  results.append((k,km.inertia_,silhouette_score(X,km.labels_)))"
      ],
      "metadata": {
        "id": "NPGPoA6xZBet"
      },
      "execution_count": 57,
      "outputs": []
    },
    {
      "cell_type": "code",
      "source": [
        "results"
      ],
      "metadata": {
        "colab": {
          "base_uri": "https://localhost:8080/"
        },
        "id": "n4ezHn78aXri",
        "outputId": "266b4c36-fa64-4161-8418-9fcbe25e1226"
      },
      "execution_count": 58,
      "outputs": [
        {
          "output_type": "execute_result",
          "data": {
            "text/plain": [
              "[(2, 19930.716255352414, 0.46249103668837904),\n",
              " (3, 13444.301257929612, 0.3856350026236928),\n",
              " (4, 10246.238061963883, 0.3812504363053932),\n",
              " (5, 8201.426889619484, 0.36381857133536355),\n",
              " (6, 6604.77405214174, 0.37599651555949526),\n",
              " (7, 5415.353501545142, 0.37911870104775097),\n",
              " (8, 4666.063630315226, 0.3810816555341402),\n",
              " (9, 4009.7688566867578, 0.3920044846047561),\n",
              " (10, 3460.324054973898, 0.41482025183826454),\n",
              " (11, 3091.7820973321113, 0.396567682506175)]"
            ]
          },
          "metadata": {},
          "execution_count": 58
        }
      ]
    },
    {
      "cell_type": "code",
      "source": [
        "results_df = pd.DataFrame(results,columns=['k','inertia','silhouette_score'])\n",
        "results_df"
      ],
      "metadata": {
        "colab": {
          "base_uri": "https://localhost:8080/",
          "height": 363
        },
        "id": "wyINDwKAaYmT",
        "outputId": "26e69329-76e8-40cc-c8c5-136adb6002b7"
      },
      "execution_count": 59,
      "outputs": [
        {
          "output_type": "execute_result",
          "data": {
            "text/plain": [
              "    k       inertia  silhouette_score\n",
              "0   2  19930.716255          0.462491\n",
              "1   3  13444.301258          0.385635\n",
              "2   4  10246.238062          0.381250\n",
              "3   5   8201.426890          0.363819\n",
              "4   6   6604.774052          0.375997\n",
              "5   7   5415.353502          0.379119\n",
              "6   8   4666.063630          0.381082\n",
              "7   9   4009.768857          0.392004\n",
              "8  10   3460.324055          0.414820\n",
              "9  11   3091.782097          0.396568"
            ],
            "text/html": [
              "\n",
              "  <div id=\"df-752ccedb-8581-4106-a99d-0c301e281954\">\n",
              "    <div class=\"colab-df-container\">\n",
              "      <div>\n",
              "<style scoped>\n",
              "    .dataframe tbody tr th:only-of-type {\n",
              "        vertical-align: middle;\n",
              "    }\n",
              "\n",
              "    .dataframe tbody tr th {\n",
              "        vertical-align: top;\n",
              "    }\n",
              "\n",
              "    .dataframe thead th {\n",
              "        text-align: right;\n",
              "    }\n",
              "</style>\n",
              "<table border=\"1\" class=\"dataframe\">\n",
              "  <thead>\n",
              "    <tr style=\"text-align: right;\">\n",
              "      <th></th>\n",
              "      <th>k</th>\n",
              "      <th>inertia</th>\n",
              "      <th>silhouette_score</th>\n",
              "    </tr>\n",
              "  </thead>\n",
              "  <tbody>\n",
              "    <tr>\n",
              "      <th>0</th>\n",
              "      <td>2</td>\n",
              "      <td>19930.716255</td>\n",
              "      <td>0.462491</td>\n",
              "    </tr>\n",
              "    <tr>\n",
              "      <th>1</th>\n",
              "      <td>3</td>\n",
              "      <td>13444.301258</td>\n",
              "      <td>0.385635</td>\n",
              "    </tr>\n",
              "    <tr>\n",
              "      <th>2</th>\n",
              "      <td>4</td>\n",
              "      <td>10246.238062</td>\n",
              "      <td>0.381250</td>\n",
              "    </tr>\n",
              "    <tr>\n",
              "      <th>3</th>\n",
              "      <td>5</td>\n",
              "      <td>8201.426890</td>\n",
              "      <td>0.363819</td>\n",
              "    </tr>\n",
              "    <tr>\n",
              "      <th>4</th>\n",
              "      <td>6</td>\n",
              "      <td>6604.774052</td>\n",
              "      <td>0.375997</td>\n",
              "    </tr>\n",
              "    <tr>\n",
              "      <th>5</th>\n",
              "      <td>7</td>\n",
              "      <td>5415.353502</td>\n",
              "      <td>0.379119</td>\n",
              "    </tr>\n",
              "    <tr>\n",
              "      <th>6</th>\n",
              "      <td>8</td>\n",
              "      <td>4666.063630</td>\n",
              "      <td>0.381082</td>\n",
              "    </tr>\n",
              "    <tr>\n",
              "      <th>7</th>\n",
              "      <td>9</td>\n",
              "      <td>4009.768857</td>\n",
              "      <td>0.392004</td>\n",
              "    </tr>\n",
              "    <tr>\n",
              "      <th>8</th>\n",
              "      <td>10</td>\n",
              "      <td>3460.324055</td>\n",
              "      <td>0.414820</td>\n",
              "    </tr>\n",
              "    <tr>\n",
              "      <th>9</th>\n",
              "      <td>11</td>\n",
              "      <td>3091.782097</td>\n",
              "      <td>0.396568</td>\n",
              "    </tr>\n",
              "  </tbody>\n",
              "</table>\n",
              "</div>\n",
              "      <button class=\"colab-df-convert\" onclick=\"convertToInteractive('df-752ccedb-8581-4106-a99d-0c301e281954')\"\n",
              "              title=\"Convert this dataframe to an interactive table.\"\n",
              "              style=\"display:none;\">\n",
              "        \n",
              "  <svg xmlns=\"http://www.w3.org/2000/svg\" height=\"24px\"viewBox=\"0 0 24 24\"\n",
              "       width=\"24px\">\n",
              "    <path d=\"M0 0h24v24H0V0z\" fill=\"none\"/>\n",
              "    <path d=\"M18.56 5.44l.94 2.06.94-2.06 2.06-.94-2.06-.94-.94-2.06-.94 2.06-2.06.94zm-11 1L8.5 8.5l.94-2.06 2.06-.94-2.06-.94L8.5 2.5l-.94 2.06-2.06.94zm10 10l.94 2.06.94-2.06 2.06-.94-2.06-.94-.94-2.06-.94 2.06-2.06.94z\"/><path d=\"M17.41 7.96l-1.37-1.37c-.4-.4-.92-.59-1.43-.59-.52 0-1.04.2-1.43.59L10.3 9.45l-7.72 7.72c-.78.78-.78 2.05 0 2.83L4 21.41c.39.39.9.59 1.41.59.51 0 1.02-.2 1.41-.59l7.78-7.78 2.81-2.81c.8-.78.8-2.07 0-2.86zM5.41 20L4 18.59l7.72-7.72 1.47 1.35L5.41 20z\"/>\n",
              "  </svg>\n",
              "      </button>\n",
              "      \n",
              "  <style>\n",
              "    .colab-df-container {\n",
              "      display:flex;\n",
              "      flex-wrap:wrap;\n",
              "      gap: 12px;\n",
              "    }\n",
              "\n",
              "    .colab-df-convert {\n",
              "      background-color: #E8F0FE;\n",
              "      border: none;\n",
              "      border-radius: 50%;\n",
              "      cursor: pointer;\n",
              "      display: none;\n",
              "      fill: #1967D2;\n",
              "      height: 32px;\n",
              "      padding: 0 0 0 0;\n",
              "      width: 32px;\n",
              "    }\n",
              "\n",
              "    .colab-df-convert:hover {\n",
              "      background-color: #E2EBFA;\n",
              "      box-shadow: 0px 1px 2px rgba(60, 64, 67, 0.3), 0px 1px 3px 1px rgba(60, 64, 67, 0.15);\n",
              "      fill: #174EA6;\n",
              "    }\n",
              "\n",
              "    [theme=dark] .colab-df-convert {\n",
              "      background-color: #3B4455;\n",
              "      fill: #D2E3FC;\n",
              "    }\n",
              "\n",
              "    [theme=dark] .colab-df-convert:hover {\n",
              "      background-color: #434B5C;\n",
              "      box-shadow: 0px 1px 3px 1px rgba(0, 0, 0, 0.15);\n",
              "      filter: drop-shadow(0px 1px 2px rgba(0, 0, 0, 0.3));\n",
              "      fill: #FFFFFF;\n",
              "    }\n",
              "  </style>\n",
              "\n",
              "      <script>\n",
              "        const buttonEl =\n",
              "          document.querySelector('#df-752ccedb-8581-4106-a99d-0c301e281954 button.colab-df-convert');\n",
              "        buttonEl.style.display =\n",
              "          google.colab.kernel.accessAllowed ? 'block' : 'none';\n",
              "\n",
              "        async function convertToInteractive(key) {\n",
              "          const element = document.querySelector('#df-752ccedb-8581-4106-a99d-0c301e281954');\n",
              "          const dataTable =\n",
              "            await google.colab.kernel.invokeFunction('convertToInteractive',\n",
              "                                                     [key], {});\n",
              "          if (!dataTable) return;\n",
              "\n",
              "          const docLinkHtml = 'Like what you see? Visit the ' +\n",
              "            '<a target=\"_blank\" href=https://colab.research.google.com/notebooks/data_table.ipynb>data table notebook</a>'\n",
              "            + ' to learn more about interactive tables.';\n",
              "          element.innerHTML = '';\n",
              "          dataTable['output_type'] = 'display_data';\n",
              "          await google.colab.output.renderOutput(dataTable, element);\n",
              "          const docLink = document.createElement('div');\n",
              "          docLink.innerHTML = docLinkHtml;\n",
              "          element.appendChild(docLink);\n",
              "        }\n",
              "      </script>\n",
              "    </div>\n",
              "  </div>\n",
              "  "
            ]
          },
          "metadata": {},
          "execution_count": 59
        }
      ]
    },
    {
      "cell_type": "code",
      "source": [
        "sns.relplot(data=results_df,x='k',y='silhouette_score',kind='line')"
      ],
      "metadata": {
        "colab": {
          "base_uri": "https://localhost:8080/",
          "height": 387
        },
        "id": "slo72eOTagX1",
        "outputId": "56974bbb-0632-416d-d902-8c6ffad8b253"
      },
      "execution_count": 62,
      "outputs": [
        {
          "output_type": "execute_result",
          "data": {
            "text/plain": [
              "<seaborn.axisgrid.FacetGrid at 0x7f8b4b00b850>"
            ]
          },
          "metadata": {},
          "execution_count": 62
        },
        {
          "output_type": "display_data",
          "data": {
            "text/plain": [
              "<Figure size 360x360 with 1 Axes>"
            ],
            "image/png": "[encoded data removed]"
          },
          "metadata": {
            "needs_background": "light"
          }
        }
      ]
    },
    {
      "cell_type": "markdown",
      "source": [
        "##DBSCAN"
      ],
      "metadata": {
        "id": "yen0FTA8dFrX"
      }
    },
    {
      "cell_type": "code",
      "source": [
        "from sklearn.cluster import DBSCAN"
      ],
      "metadata": {
        "id": "WN8MvLVRajW6"
      },
      "execution_count": 65,
      "outputs": []
    },
    {
      "cell_type": "code",
      "source": [
        "dbs = DBSCAN(eps=2.32,min_samples=4)"
      ],
      "metadata": {
        "id": "d88a5FS1eEWS"
      },
      "execution_count": 104,
      "outputs": []
    },
    {
      "cell_type": "code",
      "source": [
        "dbs.fit(X)"
      ],
      "metadata": {
        "colab": {
          "base_uri": "https://localhost:8080/"
        },
        "id": "l4S8x6lBfKjX",
        "outputId": "c97e5602-3302-4a4f-830b-d22a43dde5af"
      },
      "execution_count": 105,
      "outputs": [
        {
          "output_type": "execute_result",
          "data": {
            "text/plain": [
              "DBSCAN(eps=2.32, min_samples=4)"
            ]
          },
          "metadata": {},
          "execution_count": 105
        }
      ]
    },
    {
      "cell_type": "code",
      "source": [
        "dbs.labels_"
      ],
      "metadata": {
        "colab": {
          "base_uri": "https://localhost:8080/"
        },
        "id": "DOsd3GUXffB9",
        "outputId": "cc021380-66b1-4c30-bb67-a9f52c51957d"
      },
      "execution_count": 106,
      "outputs": [
        {
          "output_type": "execute_result",
          "data": {
            "text/plain": [
              "array([-1,  0, -1,  1,  2,  3,  4,  4,  4,  5,  0, -1, -1,  4,  8,  4,  4,\n",
              "        3,  4,  4,  5,  4,  4,  1,  0,  4,  4, -1,  4,  6,  4,  7,  2,  0,\n",
              "        0, -1,  4,  4, -1,  4,  0,  0, -1,  4,  4,  4, -1,  6,  4,  4,  4,\n",
              "        4,  4,  2,  4,  4,  4,  0,  0,  2,  4,  4,  7,  7,  4,  4,  4, -1,\n",
              "        4,  4,  6,  4, -1,  4, -1,  0,  0,  4,  4,  4,  4,  1,  1,  4,  0,\n",
              "        4,  4,  4, -1,  1,  4,  4,  0, -1,  3,  4,  4,  4,  4,  4,  9, -1,\n",
              "        6,  3,  4,  4,  0,  4,  8,  1,  4,  6,  1,  7,  4,  7, -1, -1,  4,\n",
              "        4,  7,  7,  0,  4,  5,  4, -1,  4,  4,  4,  2,  4, -1,  1,  4,  4,\n",
              "        3,  4,  7,  4,  4,  4, -1,  4,  4,  2,  4,  4,  4,  4,  1, -1, -1,\n",
              "        4, -1,  2,  4,  8,  5,  4,  4, -1,  4,  4,  4,  4,  4,  4,  6,  4,\n",
              "       -1,  4,  4,  4,  2,  4,  1,  2,  4,  4,  1,  1,  4,  4,  4, -1, -1,\n",
              "        7,  0,  4,  9,  9,  1,  9,  4,  5,  1,  4,  4, -1,  9, -1,  2,  4,\n",
              "       -1,  6,  4,  4, -1,  2,  7,  4,  4])"
            ]
          },
          "metadata": {},
          "execution_count": 106
        }
      ]
    },
    {
      "cell_type": "code",
      "source": [
        "df['dbscan'] = pd.Series(dbs.labels_,dtype='category')"
      ],
      "metadata": {
        "id": "REE88PdafgbJ"
      },
      "execution_count": 107,
      "outputs": []
    },
    {
      "cell_type": "code",
      "source": [
        "sns.relplot(data=df,x='longitude',y='latitude',hue='dbscan',height=6,aspect=1.2)"
      ],
      "metadata": {
        "colab": {
          "base_uri": "https://localhost:8080/",
          "height": 459
        },
        "id": "oCwS6LAdfvjs",
        "outputId": "07a6403f-eecb-40cb-dbca-da10e7c57418"
      },
      "execution_count": 108,
      "outputs": [
        {
          "output_type": "execute_result",
          "data": {
            "text/plain": [
              "<seaborn.axisgrid.FacetGrid at 0x7f8b4ab14a10>"
            ]
          },
          "metadata": {},
          "execution_count": 108
        },
        {
          "output_type": "display_data",
          "data": {
            "text/plain": [
              "<Figure size 564.4x432 with 1 Axes>"
            ],
            "image/png": "[encoded data removed]"
          },
          "metadata": {
            "needs_background": "light"
          }
        }
      ]
    },
    {
      "cell_type": "markdown",
      "source": [
        "##Measuring performance"
      ],
      "metadata": {
        "id": "7B89UlvAhb1K"
      }
    },
    {
      "cell_type": "code",
      "source": [
        "from sklearn.metrics import silhouette_samples"
      ],
      "metadata": {
        "id": "4wkmMJPugDrO"
      },
      "execution_count": 109,
      "outputs": []
    },
    {
      "cell_type": "code",
      "source": [
        "silhouette_samples(X,dbs.labels_)"
      ],
      "metadata": {
        "colab": {
          "base_uri": "https://localhost:8080/"
        },
        "id": "tiTgTqCZhm3n",
        "outputId": "0c04883b-06ce-4b26-c78d-94b2a773b30d"
      },
      "execution_count": 110,
      "outputs": [
        {
          "output_type": "execute_result",
          "data": {
            "text/plain": [
              "array([-0.20814483,  0.65320064, -0.64443356,  0.68693647,  0.23831556,\n",
              "        0.67141262, -0.58310662, -0.40780219,  0.18637101,  0.65591195,\n",
              "       -0.22666361, -0.79029635, -0.72073457, -0.06185745,  0.85325325,\n",
              "        0.14821736, -0.51029781,  0.43860599, -0.32756638, -0.64680788,\n",
              "        0.55800753, -0.3157048 , -0.30055726,  0.71759654,  0.64060692,\n",
              "       -0.17095003, -0.12525059, -0.41934607,  0.1264826 ,  0.65459816,\n",
              "       -0.00145675,  0.64116568,  0.31293253,  0.65407519,  0.70544133,\n",
              "       -0.39738005,  0.05938866, -0.19258144, -0.85845259, -0.53735599,\n",
              "        0.52828206,  0.6840455 , -0.81475089, -0.53019496,  0.15916091,\n",
              "        0.01173805, -0.75698378,  0.62389227,  0.12102413, -0.54100004,\n",
              "       -0.35562881,  0.04131563, -0.47820907,  0.46368482, -0.54199308,\n",
              "       -0.35263909, -0.23765765,  0.18675079,  0.52410943,  0.08195632,\n",
              "       -0.38251503,  0.24946522,  0.7311555 ,  0.61885281, -0.48287759,\n",
              "       -0.67938404, -0.51367549, -0.73694006, -0.40148021, -0.35390847,\n",
              "        0.30673406, -0.19385913, -0.74347461, -0.56597856, -0.80331023,\n",
              "        0.6892583 ,  0.70137448, -0.5592098 , -0.58282763, -0.54012165,\n",
              "        0.20484549,  0.74170393,  0.68352907, -0.54518726,  0.55017964,\n",
              "       -0.16419938, -0.04951859, -0.2448879 , -0.72880524,  0.75313565,\n",
              "       -0.53118912, -0.28317021,  0.69131628, -0.23563062,  0.3942257 ,\n",
              "        0.31641395, -0.61986263, -0.25482912,  0.15132487, -0.07524177,\n",
              "        0.66646026, -0.74732719,  0.68789894,  0.62736615,  0.21079418,\n",
              "        0.17085219,  0.65145588, -0.50805985,  0.88246703,  0.48925339,\n",
              "       -0.13063828,  0.61419044,  0.69704969,  0.57817429, -0.46911199,\n",
              "        0.65566384, -0.58442229, -0.77495159, -0.29796142, -0.2252694 ,\n",
              "        0.71679099,  0.67513831, -0.16956242, -0.54001496,  0.50194587,\n",
              "        0.31264771, -0.86971952,  0.30333698, -0.5716488 , -0.30702182,\n",
              "        0.25920531,  0.23473121, -0.74760414,  0.77261515, -0.03396122,\n",
              "       -0.66476488,  0.65287747, -0.70533632,  0.31804865, -0.39219526,\n",
              "       -0.36079567, -0.20019786, -0.81146843, -0.82001158, -0.31876941,\n",
              "        0.13892212, -0.50742077, -0.42116595, -0.07814923,  0.07798052,\n",
              "        0.6759771 , -0.7535817 , -0.20416421, -0.11218333, -0.75493095,\n",
              "        0.27398648, -0.2274392 ,  0.86738945,  0.68345809,  0.13131118,\n",
              "        0.04775948, -0.82111979, -0.45001965, -0.56838338, -0.37953386,\n",
              "       -0.1877    ,  0.21279893, -0.51258917,  0.07593264,  0.26434755,\n",
              "       -0.7606344 ,  0.09473257,  0.10738715, -0.40395416,  0.02242447,\n",
              "        0.32010108,  0.59149411,  0.38955144,  0.20943959, -0.21362847,\n",
              "        0.68897152,  0.72995709, -0.55871356, -0.0214655 , -0.52818573,\n",
              "       -0.43281811, -0.61547387,  0.62198719,  0.61625376,  0.01972737,\n",
              "        0.60693288,  0.64301276,  0.65416545,  0.25071007, -0.56690873,\n",
              "        0.67029746,  0.6771924 ,  0.30442636, -0.8156924 , -0.22994082,\n",
              "        0.53129078, -0.59282328,  0.17570668,  0.20966209, -0.78886769,\n",
              "        0.60377548, -0.60745847, -0.09637473, -0.78686994, -0.0024031 ,\n",
              "        0.40727975, -0.59624456, -0.19263566])"
            ]
          },
          "metadata": {},
          "execution_count": 110
        }
      ]
    },
    {
      "cell_type": "code",
      "source": [
        ""
      ],
      "metadata": {
        "id": "_GKwEULfhtfz"
      },
      "execution_count": null,
      "outputs": []
    }
  ]
}